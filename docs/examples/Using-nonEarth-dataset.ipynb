{
 "cells": [
  {
   "cell_type": "markdown",
   "metadata": {},
   "source": [
    "# Using Non Earth dataset"
   ]
  },
  {
   "cell_type": "markdown",
   "metadata": {},
   "source": [
    "# Requirements\n",
    "\n",
    "To be able to run this notebook you'll need the following requirements:\n",
    "- rio-tiler~= 3.0\n",
    "- ipyleaflet"
   ]
  },
  {
   "cell_type": "code",
   "execution_count": null,
   "metadata": {},
   "outputs": [],
   "source": [
    "# !pip install rio-tiler\n",
    "# !pip install ipyleaflet"
   ]
  },
  {
   "cell_type": "code",
   "execution_count": null,
   "metadata": {},
   "outputs": [],
   "source": [
    "import requests\n",
    "from ipyleaflet import (\n",
    "    Map,\n",
    "    basemaps,\n",
    "    basemap_to_tiles,\n",
    "    TileLayer,\n",
    "    WMSLayer,\n",
    "    GeoJSON,\n",
    "    projections\n",
    ")"
   ]
  },
  {
   "cell_type": "code",
   "execution_count": null,
   "metadata": {},
   "outputs": [],
   "source": [
    "# For this DEMO we will use this file\n",
    "src_path = \"https://asc-jupiter.s3-us-west-2.amazonaws.com/europa/galileo_voyager/controlled_mosaics/11ESCOLORS01-02_GalileoSSI_Equi-cog.tif\""
   ]
  },
  {
   "cell_type": "markdown",
   "metadata": {},
   "source": [
    "## Tile Server\n",
    "\n",
    "For this demo, we need to create a minimal tile server."
   ]
  },
  {
   "cell_type": "code",
   "execution_count": null,
   "metadata": {},
   "outputs": [],
   "source": [
    "import json\n",
    "from concurrent import futures\n",
    "\n",
    "from tornado import web\n",
    "from tornado import gen\n",
    "from tornado.httpserver import HTTPServer\n",
    "from tornado.concurrent import run_on_executor\n",
    "\n",
    "from rio_tiler.io import COGReader\n",
    "from rio_tiler.errors import TileOutsideBounds\n",
    "from rio_tiler.profiles import img_profiles\n",
    "\n",
    "from pyproj import CRS\n",
    "from morecantile import TileMatrixSet\n",
    "\n",
    "# Create a CUSTOM TMS using the europa ESRI:104915 projection\n",
    "europa_crs = CRS.from_authority(\"ESRI\", 104915)\n",
    "europa_tms = TileMatrixSet.custom(\n",
    "    crs=europa_crs, extent=europa_crs.area_of_use.bounds, matrix_scale=[2, 1],\n",
    ")\n",
    "\n",
    "class TileServer:\n",
    "    def __init__(self, src_path):\n",
    "        \"\"\"Initialize Tornado app.\"\"\"\n",
    "        self.server = None\n",
    "        self.app = web.Application([\n",
    "            (r\"^/tiles/(\\d+)/(\\d+)/(\\d+)\", TileHandler, {\"url\": src_path}),\n",
    "        ])\n",
    "\n",
    "    def start(self):\n",
    "        \"\"\"Start tile server.\"\"\"\n",
    "        self.server = HTTPServer(self.app)\n",
    "        self.server.listen(8080)\n",
    "  \n",
    "    def stop(self):\n",
    "        \"\"\"Stop tile server.\"\"\"\n",
    "        if self.server:\n",
    "            self.server.stop()\n",
    "\n",
    "\n",
    "class TileHandler(web.RequestHandler):\n",
    "    \"\"\"Tile requests handler.\"\"\"\n",
    "\n",
    "    executor = futures.ThreadPoolExecutor(max_workers=16)\n",
    "\n",
    "    def initialize(self, url):\n",
    "        \"\"\"Initialize tiles handler.\"\"\"\n",
    "        self.url = url\n",
    "\n",
    "    @run_on_executor\n",
    "    def _get_tile(self, z, x, y):\n",
    "\n",
    "        try:\n",
    "            with COGReader(self.url, tms=europa_tms) as cog:\n",
    "                data = cog.tile(x, y, z)\n",
    "        except TileOutsideBounds:\n",
    "            raise web.HTTPError(404)\n",
    "\n",
    "        image = data.post_process(in_range=((0, 0.5),))\n",
    "\n",
    "        prof = img_profiles.get(\"PNG\", {})\n",
    "        return image.render(img_format=\"PNG\", **prof)\n",
    "\n",
    "    @gen.coroutine\n",
    "    def get(self, z, x, y):\n",
    "        \"\"\"Retunrs tile data and header.\"\"\"\n",
    "        self.set_header(\"Access-Control-Allow-Origin\", \"*\")\n",
    "        self.set_header(\"Access-Control-Allow-Methods\", \"GET\")\n",
    "        self.set_header(\"Content-Type\", \"image/png\")\n",
    "        self.set_header(\"Cache-Control\", \"no-store, no-cache, must-revalidate\")\n",
    "        res = yield self._get_tile(int(z), int(x), int(y))\n",
    "        self.write(res)\n",
    "\n",
    "\n",
    "ts = TileServer(src_path)\n",
    "ts.start()"
   ]
  },
  {
   "cell_type": "code",
   "execution_count": null,
   "metadata": {},
   "outputs": [],
   "source": [
    "bounds = (129.36834223297478, 13.985559117409744, 138.90253908503576, 23.13673177454536)\n",
    "\n",
    "m = Map(\n",
    "    center=(\n",
    "        (bounds[1] + bounds[3]) / 2,\n",
    "        (bounds[0] + bounds[2]) / 2\n",
    "    ),\n",
    "    zoom=4,\n",
    "    basemap={},\n",
    "    crs=projections.EPSG4326,  # HACK: the europa TMS is in degree and covers -180, -90, 180, 90 like the WGS84\n",
    ")\n",
    "\n",
    "layer = TileLayer(\n",
    "    url=\"http://127.0.0.1:8080/tiles/{z}/{x}/{y}\",\n",
    "    min_zoom=4,\n",
    "    max_zoom=6,\n",
    "    opacity=1,\n",
    ")\n",
    "m.add_layer(layer)\n",
    "m"
   ]
  },
  {
   "cell_type": "code",
   "execution_count": null,
   "metadata": {},
   "outputs": [],
   "source": [
    "ts.stop()"
   ]
  },
  {
   "cell_type": "code",
   "execution_count": null,
   "metadata": {},
   "outputs": [],
   "source": []
  }
 ],
 "metadata": {
  "kernelspec": {
   "display_name": "Python 3",
   "language": "python",
   "name": "python3"
  },
  "language_info": {
   "codemirror_mode": {
    "name": "ipython",
    "version": 3
   },
   "file_extension": ".py",
   "mimetype": "text/x-python",
   "name": "python",
   "nbconvert_exporter": "python",
   "pygments_lexer": "ipython3",
   "version": "3.8.2"
  }
 },
 "nbformat": 4,
 "nbformat_minor": 2
}
