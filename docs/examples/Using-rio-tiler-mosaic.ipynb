{
 "cells": [
  {
   "cell_type": "markdown",
   "metadata": {},
   "source": [
    "# rio-tiler.mosaic\n",
    "\n"
   ]
  },
  {
   "cell_type": "markdown",
   "metadata": {},
   "source": [
    "In This notebook you'll learn how to:\n",
    "- use create mercator tiles from multiple observations (assets) using `rio_tiler.mosaic` submodule\n",
    "- create custom `pixel_selection` methods\n",
    "- look for sentinel-2-cogs data\n",
    "- create custom tiler using `STACReader`"
   ]
  },
  {
   "cell_type": "code",
   "execution_count": null,
   "metadata": {
    "scrolled": false,
    "tags": []
   },
   "outputs": [],
   "source": [
    "%pylab inline"
   ]
  },
  {
   "cell_type": "markdown",
   "metadata": {},
   "source": [
    "# Requirements\n",
    "\n",
    "To be able to run this notebook you'll need the following requirements:\n",
    "- rasterio\n",
    "- ipyleaflet\n",
    "- rio-tiler~= 2.0"
   ]
  },
  {
   "cell_type": "code",
   "execution_count": null,
   "metadata": {},
   "outputs": [],
   "source": [
    "# !pip install rio-tiler\n",
    "# !pip install ipyleaflet"
   ]
  },
  {
   "cell_type": "code",
   "execution_count": null,
   "metadata": {},
   "outputs": [],
   "source": [
    "import json\n",
    "import datetime\n",
    "import requests\n",
    "\n",
    "import morecantile\n",
    "\n",
    "from rio_tiler.io import COGReader, STACReader\n",
    "from rio_tiler.mosaic import mosaic_reader\n",
    "from rio_tiler.mosaic.methods import defaults\n",
    "from rio_tiler.mosaic.methods.base import MosaicMethodBase\n",
    "from rio_tiler.models import ImageData\n",
    "\n",
    "from rasterio.plot import reshape_as_image\n",
    "from rasterio.features import bounds as featureBounds\n",
    "\n",
    "from ipyleaflet import Map, basemaps, TileLayer, basemap_to_tiles, GeoJSON"
   ]
  },
  {
   "cell_type": "markdown",
   "metadata": {},
   "source": [
    "## Data\n",
    "\n",
    "For this demo we will use the Sentinel-2 data stored as COGs on AWS.\n",
    "\n",
    "### Sentinel 2 COGs\n",
    "Thanks to Digital Earth Africa and in collaboration with Sinergise, Element 84, Amazon Web Services (AWS) and the Committee on Earth Observation Satellites (CEOS), Sentinel 2 (Level 2) data over Africa, usually stored as JPEG2000, has been translated to COG more important a STAC database and API has been setup.\n",
    "\n",
    "https://www.digitalearthafrica.org/news/operational-and-ready-use-satellite-data-now-available-across-africa\n",
    "\n",
    "The API is provided by @element84 and follows the latest specification: https://earth-search.aws.element84.com/v0"
   ]
  },
  {
   "cell_type": "code",
   "execution_count": null,
   "metadata": {},
   "outputs": [],
   "source": [
    "stac_endpoint = \"https://earth-search.aws.element84.com/v0/search\""
   ]
  },
  {
   "cell_type": "markdown",
   "metadata": {},
   "source": [
    "### Search for data\n",
    "\n",
    "#### Define Area of Interest (AOI)"
   ]
  },
  {
   "cell_type": "code",
   "execution_count": null,
   "metadata": {},
   "outputs": [],
   "source": [
    "# use geojson.io\n",
    "geojson = {\n",
    "  \"type\": \"FeatureCollection\",\n",
    "  \"features\": [\n",
    "    {\n",
    "      \"type\": \"Feature\",\n",
    "      \"properties\": {},\n",
    "      \"geometry\": {\n",
    "        \"type\": \"Polygon\",\n",
    "        \"coordinates\": [\n",
    "          [\n",
    "            [\n",
    "              30.810813903808594,\n",
    "              29.454247067148533\n",
    "            ],\n",
    "            [\n",
    "              30.88600158691406,\n",
    "              29.454247067148533\n",
    "            ],\n",
    "            [\n",
    "              30.88600158691406,\n",
    "              29.51879923863822\n",
    "            ],\n",
    "            [\n",
    "              30.810813903808594,\n",
    "              29.51879923863822\n",
    "            ],\n",
    "            [\n",
    "              30.810813903808594,\n",
    "              29.454247067148533\n",
    "            ]\n",
    "          ]\n",
    "        ]\n",
    "      }\n",
    "    }\n",
    "  ]\n",
    "}\n",
    "\n",
    "bounds = featureBounds(geojson)"
   ]
  },
  {
   "cell_type": "markdown",
   "metadata": {},
   "source": [
    "### STAC Search\n",
    "\n",
    "Use STAC API to search for data over our AOI\n",
    "\n",
    "Doc: https://github.com/radiantearth/stac-api-spec"
   ]
  },
  {
   "cell_type": "code",
   "execution_count": null,
   "metadata": {
    "scrolled": true,
    "tags": []
   },
   "outputs": [],
   "source": [
    "# Date filter\n",
    "date_min=\"2019-06-01\"\n",
    "date_max=\"2019-09-01\"\n",
    "\n",
    "start = datetime.datetime.strptime(date_min, \"%Y-%m-%d\").strftime(\"%Y-%m-%dT00:00:00Z\")\n",
    "end = datetime.datetime.strptime(date_max, \"%Y-%m-%d\").strftime(\"%Y-%m-%dT23:59:59Z\")\n",
    "\n",
    "query = {\n",
    "    \"collections\": [\"sentinel-s2-l2a-cogs\"], # Make sure to query only sentinel-2 COGs collection\n",
    "    \"datetime\": f\"{start}/{end}\",\n",
    "    \"query\": {\n",
    "        \"eo:cloud_cover\": {\n",
    "            \"lt\": 5\n",
    "        }  # Use low cloud cover\n",
    "    },\n",
    "    \"intersects\": geojson[\"features\"][0][\"geometry\"],\n",
    "    \"limit\": 1000,\n",
    "    \"fields\": {\n",
    "      'include': ['id', 'properties.datetime', 'properties.eo:cloud_cover'],  # Make returned response ligth \n",
    "      'exclude': ['links']\n",
    "    }\n",
    "}\n",
    "\n",
    "headers = {\n",
    "    \"Content-Type\": \"application/json\",\n",
    "    \"Accept-Encoding\": \"gzip\",\n",
    "    \"Accept\": \"application/geo+json\",\n",
    "}\n",
    "\n",
    "\n",
    "data = requests.post(stac_endpoint, headers=headers, json=query).json()\n",
    "print(data[\"context\"])\n",
    "print()\n",
    "print(\"Example:\")\n",
    "print(json.dumps(data[\"features\"][0], indent=4))\n",
    "\n",
    "sceneid = [f[\"id\"] for f in data[\"features\"]]\n",
    "cloudcover = [f[\"properties\"][\"eo:cloud_cover\"] for f in data[\"features\"]]\n",
    "dates = [f[\"properties\"][\"datetime\"][0:10] for f in data[\"features\"]]\n",
    "\n",
    "# For this demo we will use the True color image `TCI` asset\n",
    "assets = [f[\"assets\"][\"visual\"][\"href\"] for f in data[\"features\"]]"
   ]
  },
  {
   "cell_type": "code",
   "execution_count": null,
   "metadata": {},
   "outputs": [],
   "source": [
    "m = Map(\n",
    "    basemap=basemaps.OpenStreetMap.Mapnik,\n",
    "    center=((bounds[1] + bounds[3]) / 2,(bounds[0] + bounds[2]) / 2),\n",
    "    zoom=8\n",
    ")\n",
    "\n",
    "# add scenes\n",
    "geo_json = GeoJSON(\n",
    "    data=data,\n",
    "    style={\n",
    "        'opacity': 1, 'dashArray': '1', 'fillOpacity': 0, 'weight': 1\n",
    "    },\n",
    ")\n",
    "m.add_layer(geo_json)\n",
    "\n",
    "# add AOI\n",
    "geo_json = GeoJSON(\n",
    "    data=geojson,\n",
    "    style={\n",
    "        'opacity': 1, 'dashArray': '1', 'fillOpacity': 1, 'weight': 1\n",
    "    },\n",
    ")\n",
    "m.add_layer(geo_json)\n",
    "\n",
    "m"
   ]
  },
  {
   "cell_type": "markdown",
   "metadata": {},
   "source": [
    "## Define the tiler"
   ]
  },
  {
   "cell_type": "code",
   "execution_count": null,
   "metadata": {},
   "outputs": [],
   "source": [
    "def tiler(asset, *args, **kwargs):\n",
    "    with COGReader(asset) as cog:\n",
    "        return cog.tile(*args, **kwargs)"
   ]
  },
  {
   "cell_type": "code",
   "execution_count": null,
   "metadata": {},
   "outputs": [],
   "source": [
    "# List of z12 mercator tiles\n",
    "tms = morecantile.tms.get(\"WebMercatorQuad\")\n",
    "\n",
    "tiles = list(tms.tiles(*bounds, 12))\n",
    "print(len(tiles))"
   ]
  },
  {
   "cell_type": "markdown",
   "metadata": {},
   "source": [
    "### FirstMethod: Fill with the first value available"
   ]
  },
  {
   "cell_type": "code",
   "execution_count": null,
   "metadata": {
    "scrolled": false
   },
   "outputs": [],
   "source": [
    "tile = tiles[0]\n",
    "\n",
    "img, assets_used = mosaic_reader(\n",
    "    assets,\n",
    "    tiler,\n",
    "    tile.x,\n",
    "    tile.y,\n",
    "    tile.z,\n",
    "    threads=1,\n",
    ")\n",
    "\n",
    "fig = figure(figsize=(30, 10))\n",
    "\n",
    "ax = fig.add_subplot(1, 2, 1)\n",
    "ax.imshow(img.data_as_image())\n",
    "\n",
    "ax = fig.add_subplot(1, 2, 2)\n",
    "ax.imshow(img.mask)"
   ]
  },
  {
   "cell_type": "markdown",
   "metadata": {},
   "source": [
    "Print the number and list of assets used to construct the image"
   ]
  },
  {
   "cell_type": "code",
   "execution_count": null,
   "metadata": {
    "tags": []
   },
   "outputs": [],
   "source": [
    "print(len(assets_used))\n",
    "print(assets_used)"
   ]
  },
  {
   "cell_type": "markdown",
   "metadata": {},
   "source": [
    "### MeanMethod: Get the mean from all the stack of data"
   ]
  },
  {
   "cell_type": "code",
   "execution_count": null,
   "metadata": {
    "scrolled": false
   },
   "outputs": [],
   "source": [
    "tile = tiles[0]\n",
    "\n",
    "img, assets_used = mosaic_reader(\n",
    "    assets,\n",
    "    tiler,\n",
    "    tile.x,\n",
    "    tile.y,\n",
    "    tile.z,\n",
    "    pixel_selection=defaults.MeanMethod(),\n",
    ")\n",
    "\n",
    "fig = figure(figsize=(30, 10))\n",
    "\n",
    "ax = fig.add_subplot(1, 2, 1)\n",
    "ax.imshow(img.data_as_image())\n",
    "\n",
    "ax = fig.add_subplot(1, 2, 2)\n",
    "ax.imshow(img.mask)"
   ]
  },
  {
   "cell_type": "markdown",
   "metadata": {},
   "source": [
    "Print the number and list of assets used to construct the image"
   ]
  },
  {
   "cell_type": "code",
   "execution_count": null,
   "metadata": {
    "tags": []
   },
   "outputs": [],
   "source": [
    "print(len(assets_used))\n",
    "print(assets_used)"
   ]
  },
  {
   "cell_type": "markdown",
   "metadata": {},
   "source": [
    "## Create Custom pixel_selection class \n",
    "\n",
    "### 1. Using a 4th band for decision: highest NDVI  "
   ]
  },
  {
   "cell_type": "code",
   "execution_count": null,
   "metadata": {},
   "outputs": [],
   "source": [
    "stac_item = \"https://earth-search.aws.element84.com/v0/collections/sentinel-s2-l2a-cogs/items/{sceneid}\"\n",
    "stac_assets = [stac_item.format(sceneid=scene) for scene in sceneid]"
   ]
  },
  {
   "cell_type": "code",
   "execution_count": null,
   "metadata": {},
   "outputs": [],
   "source": [
    "# Fisrt, let's checkout the STDEV of the NDVI values\n",
    "# Because we need to use multiple STAC assets, it's easier to use the STACReader\n",
    "def custom_tiler(asset, *args, **kwargs):\n",
    "    with STACReader(asset) as stac:\n",
    "        return stac.tile(*args, expression=\"(B08-B04)/(B08+B04)\")\n",
    "\n",
    "tile = tiles[0]\n",
    "\n",
    "img, assets_used = mosaic_reader(\n",
    "    stac_assets,\n",
    "    custom_tiler,\n",
    "    tile.x,\n",
    "    tile.y,\n",
    "    tile.z,\n",
    "    pixel_selection=defaults.StdevMethod(),\n",
    ")\n",
    "\n",
    "fig = figure(figsize=(30, 10))\n",
    "\n",
    "ax = fig.add_subplot(1, 2, 1)\n",
    "ax.imshow(img.data_as_image())\n",
    "\n",
    "ax = fig.add_subplot(1, 2, 2)\n",
    "ax.imshow(img.mask)"
   ]
  },
  {
   "cell_type": "code",
   "execution_count": null,
   "metadata": {},
   "outputs": [],
   "source": [
    "print(len(assets_used))\n",
    "print(assets_used)"
   ]
  },
  {
   "cell_type": "code",
   "execution_count": null,
   "metadata": {},
   "outputs": [],
   "source": [
    "# We create a custom tiler function that will read the TCI asset and add a 4th representing the NDVI \n",
    "def custom_tiler(asset, *args, **kwargs):\n",
    "    with STACReader(asset) as stac:\n",
    "        img = stac.tile(*args, assets=\"visual\")\n",
    "        ndvi = stac.tile(*args, expression=\"(B08-B04)/(B08+B04)\")\n",
    "        return ImageData(numpy.concatenate((img.data, ndvi.data)), img.mask, crs=img.crs, bounds=img.bounds)"
   ]
  },
  {
   "cell_type": "code",
   "execution_count": null,
   "metadata": {},
   "outputs": [],
   "source": [
    "class CustomFourthBandH(MosaicMethodBase):\n",
    "    \"\"\"Feed the mosaic tile with the Mean pixel value.\"\"\"\n",
    "\n",
    "    @property\n",
    "    def data(self):\n",
    "        \"\"\"Return data and mask.\"\"\"\n",
    "        if self.tile is not None:\n",
    "            return self.tile.data[:-1], ~self.tile.mask[0] * 255\n",
    "        else:\n",
    "            return None, None\n",
    "\n",
    "    def feed(self, tile):\n",
    "        \"\"\"Add data to tile.\"\"\"\n",
    "\n",
    "        if self.tile is None:\n",
    "            self.tile = tile\n",
    "            return\n",
    "\n",
    "        pidex = (\n",
    "            numpy.bitwise_and(tile.data[-1] > self.tile.data[-1], ~tile.mask) | self.tile.mask\n",
    "        )\n",
    "\n",
    "        mask = numpy.where(pidex, tile.mask, self.tile.mask)\n",
    "        self.tile = numpy.ma.where(pidex, tile, self.tile)\n",
    "        self.tile.mask = mask"
   ]
  },
  {
   "cell_type": "code",
   "execution_count": null,
   "metadata": {
    "scrolled": false
   },
   "outputs": [],
   "source": [
    "tile = tiles[0]\n",
    "\n",
    "img, assets_used = mosaic_reader(\n",
    "    stac_assets,\n",
    "    custom_tiler,\n",
    "    tile.x,\n",
    "    tile.y,\n",
    "    tile.z,\n",
    "    pixel_selection=CustomFourthBandH(),\n",
    ")\n",
    "\n",
    "fig = figure(figsize=(30, 10))\n",
    "\n",
    "ax = fig.add_subplot(1, 2, 1)\n",
    "\n",
    "# NOTE: because we are using NDVI + Visual, the output array, will be in float32\n",
    "ax.imshow(img.data_as_image().astype(\"uint8\"))\n",
    "\n",
    "ax = fig.add_subplot(1, 2, 2)\n",
    "ax.imshow(img.mask)"
   ]
  },
  {
   "cell_type": "code",
   "execution_count": null,
   "metadata": {},
   "outputs": [],
   "source": [
    "print(len(assets_used))\n",
    "print(assets_used)"
   ]
  },
  {
   "cell_type": "code",
   "execution_count": null,
   "metadata": {},
   "outputs": [],
   "source": []
  }
 ],
 "metadata": {
  "kernelspec": {
   "display_name": "Python 3",
   "language": "python",
   "name": "python3"
  },
  "language_info": {
   "codemirror_mode": {
    "name": "ipython",
    "version": 3
   },
   "file_extension": ".py",
   "mimetype": "text/x-python",
   "name": "python",
   "nbconvert_exporter": "python",
   "pygments_lexer": "ipython3",
   "version": "3.8.6"
  }
 },
 "nbformat": 4,
 "nbformat_minor": 2
}
