{
 "cells": [
  {
   "cell_type": "markdown",
   "metadata": {},
   "source": [
    "# Introduction to rio-tiler + STAC"
   ]
  },
  {
   "cell_type": "markdown",
   "metadata": {},
   "source": [
    "The goal of this notebook is to give a quick introduction of the rio-tiler STACReader."
   ]
  },
  {
   "cell_type": "markdown",
   "metadata": {},
   "source": [
    "# Requirements\n",
    "\n",
    "To be able to run this notebook you'll need the following requirements:\n",
    "- rio-tiler~=7.0\n",
    "- matplotlib"
   ]
  },
  {
   "cell_type": "code",
   "execution_count": 1,
   "metadata": {},
   "outputs": [],
   "source": [
    "# !pip install rio-tiler matplotlib"
   ]
  },
  {
   "cell_type": "code",
   "execution_count": 1,
   "metadata": {},
   "outputs": [],
   "source": [
    "from matplotlib.pyplot import imshow, subplots\n",
    "\n",
    "from rio_tiler.io import STACReader\n",
    "from rio_tiler.models import ImageData"
   ]
  },
  {
   "cell_type": "markdown",
   "metadata": {},
   "source": [
    "## Data\n",
    "\n",
    "For this demo we will use a STAC Item for the Sentinel-2 data stored as COGs on AWS.\n",
    "\n",
    "### Sentinel 2 COGs\n",
    "Thanks to Digital Earth Africa and in collaboration with Sinergise, Element 84, Amazon Web Services (AWS) and the Committee on Earth Observation Satellites (CEOS), Sentinel 2 (Level 2) data over Africa, usually stored as JPEG2000, has been translated to COG more important a STAC database and API has been setup.\n",
    "\n",
    "https://www.digitalearthafrica.org/news/operational-and-ready-use-satellite-data-now-available-across-africa"
   ]
  },
  {
   "cell_type": "code",
   "execution_count": 2,
   "metadata": {},
   "outputs": [],
   "source": [
    "# For this DEMO we will use this file\n",
    "src_path = \"https://earth-search.aws.element84.com/v0/collections/sentinel-s2-l2a-cogs/items/S2A_34SGA_20200318_0_L2A\""
   ]
  },
  {
   "cell_type": "markdown",
   "metadata": {},
   "source": [
    "## rio_tiler.io.STACReader\n",
    "\n",
    "In `rio-tiler` 2.0 we introduced STACReader, which is a python class providing usefull methods get and parse the STAC item and then read and inspect any GDAL/rasterio raster assets.\n",
    "\n",
    "Docs: [https://cogeotiff.github.io/rio-tiler/readers/#stacreader](https://cogeotiff.github.io/rio-tiler/readers/#stacreader) "
   ]
  },
  {
   "cell_type": "code",
   "execution_count": null,
   "metadata": {},
   "outputs": [],
   "source": [
    "?STACReader"
   ]
  },
  {
   "cell_type": "markdown",
   "metadata": {},
   "source": [
    "#### Initialize the Reader"
   ]
  },
  {
   "cell_type": "code",
   "execution_count": null,
   "metadata": {},
   "outputs": [],
   "source": [
    "with STACReader(src_path) as stac:\n",
    "    pass\n",
    "\n",
    "# see the list of available assets\n",
    "print(stac.assets)\n",
    "\n",
    "# print the bounds\n",
    "print(stac.bounds)\n",
    "print(stac.crs)"
   ]
  },
  {
   "cell_type": "markdown",
   "metadata": {},
   "source": [
    "### Info\n",
    "\n",
    "Get some info about some assets"
   ]
  },
  {
   "cell_type": "code",
   "execution_count": null,
   "metadata": {},
   "outputs": [],
   "source": [
    "with STACReader(src_path) as stac:\n",
    "    # This method will return a Dict of `{asset: rio_tiler.models.Info, asset2: rio_tiler.models.Info}`\n",
    "    # Checkout the docs https://cogeotiff.github.io/rio-tiler/models/#info for more info about the model.\n",
    "    info = stac.info(assets=(\"B01\", \"B02\"))\n",
    "    print(\"B01:\")\n",
    "    print(info[\"B01\"].model_dump(exclude_none=True))\n",
    "    print(\"B02:\")\n",
    "    print(info[\"B02\"].model_dump(exclude_none=True))"
   ]
  },
  {
   "cell_type": "markdown",
   "metadata": {},
   "source": [
    "### Statistics\n",
    "\n",
    "Return basic data statistics"
   ]
  },
  {
   "cell_type": "code",
   "execution_count": null,
   "metadata": {
    "scrolled": false
   },
   "outputs": [],
   "source": [
    "with STACReader(src_path) as stac:\n",
    "    meta = stac.statistics(\n",
    "        assets=(\"B01\", \"B02\", \"B03\", \"B04\"), max_size=256\n",
    "    )  # Here we use max_size option to limit the data transfer (default to 1024)\n",
    "    print(\"available assets statistics:\")\n",
    "    print(list(meta))\n",
    "    print()\n",
    "    print(\"statistics for asset B01:\")\n",
    "    # For each asset, we will get a Dict in form of {\"1\": BandStatistics(...), ...} with `1` being the band index.\n",
    "    print(meta[\"B01\"])"
   ]
  },
  {
   "cell_type": "markdown",
   "metadata": {},
   "source": [
    "#### Plot Histogram values"
   ]
  },
  {
   "cell_type": "code",
   "execution_count": null,
   "metadata": {},
   "outputs": [],
   "source": [
    "fig, axs = subplots(1, 4, sharey=True, tight_layout=True, dpi=150)\n",
    "\n",
    "axs[0].plot(meta[\"B01\"][\"b1\"].histogram[1][0:-1], meta[\"B01\"][\"b1\"].histogram[0])\n",
    "axs[1].plot(meta[\"B02\"][\"b1\"].histogram[1][0:-1], meta[\"B02\"][\"b1\"].histogram[0])\n",
    "axs[2].plot(meta[\"B03\"][\"b1\"].histogram[1][0:-1], meta[\"B03\"][\"b1\"].histogram[0])\n",
    "axs[3].plot(meta[\"B04\"][\"b1\"].histogram[1][0:-1], meta[\"B04\"][\"b1\"].histogram[0])"
   ]
  },
  {
   "cell_type": "markdown",
   "metadata": {},
   "source": [
    "### Preview\n",
    "\n",
    "Read a low resolution version of the data (useful when working with COG, because this method will only fetch the overview layer it needs)"
   ]
  },
  {
   "cell_type": "code",
   "execution_count": null,
   "metadata": {},
   "outputs": [],
   "source": [
    "with STACReader(src_path) as stac:\n",
    "    # By default `preview()` will return an array with its longest dimension lower or equal to 1024px\n",
    "    img = stac.preview(assets=(\"B04\", \"B03\", \"B02\"), max_size=256)\n",
    "    print(img.data.shape)\n",
    "    # learn more about the ImageData model https://cogeotiff.github.io/rio-tiler/models/#imagedata\n",
    "    assert isinstance(img, ImageData)"
   ]
  },
  {
   "cell_type": "markdown",
   "metadata": {},
   "source": [
    "#### Display the data"
   ]
  },
  {
   "cell_type": "code",
   "execution_count": null,
   "metadata": {},
   "outputs": [],
   "source": [
    "# Rasterio doesn't use the same axis order than visualization libraries (e.g matplotlib, PIL)\n",
    "# in order to display the data we need to change the order (using rasterio.plot.array_to_image).\n",
    "# the ImageData class wraps the rasterio function in the `data_as_image()` method.\n",
    "print(type(img))\n",
    "print(img.data.shape)\n",
    "\n",
    "image = img.data_as_image()\n",
    "# data_as_image() returns a numpy.ndarray in form of (col, row, band)\n",
    "print(type(image))\n",
    "print(image.shape)\n",
    "\n",
    "imshow(image)"
   ]
  },
  {
   "cell_type": "code",
   "execution_count": null,
   "metadata": {
    "scrolled": true
   },
   "outputs": [],
   "source": [
    "# The sentinel data is stored as UInt16, we need to do some data rescaling to display data from 0 to 255\n",
    "print(img.data.min(), img.data.max())\n",
    "\n",
    "img.rescale(in_range=((0, 10000),))\n",
    "print(img.data.min(), img.data.max())\n",
    "\n",
    "image = img.data_as_image()\n",
    "imshow(image)"
   ]
  },
  {
   "cell_type": "markdown",
   "metadata": {},
   "source": [
    "### Use Expression"
   ]
  },
  {
   "cell_type": "code",
   "execution_count": null,
   "metadata": {},
   "outputs": [],
   "source": [
    "with STACReader(src_path) as stac:\n",
    "    # By default `preview()` will return an array with its longest dimension lower or equal to 1024px\n",
    "    img = stac.preview(expression=\"(B08_b1-B04_b1)/(B08_b1+B04_b1)\", max_size=256)\n",
    "    print(img.data.shape)\n",
    "    # learn more about the ImageData model https://cogeotiff.github.io/rio-tiler/models/#imagedata\n",
    "    assert isinstance(img, ImageData)\n",
    "\n",
    "# NDVI data range should be between -1 and 1\n",
    "print(img.data.min(), img.data.max())\n",
    "\n",
    "img.rescale(in_range=((-1, 1),))\n",
    "image = img.data_as_image()\n",
    "imshow(image)"
   ]
  },
  {
   "cell_type": "code",
   "execution_count": null,
   "metadata": {},
   "outputs": [],
   "source": []
  }
 ],
 "metadata": {
  "kernelspec": {
   "display_name": "Python 3 (ipykernel)",
   "language": "python",
   "name": "python3"
  },
  "language_info": {
   "codemirror_mode": {
    "name": "ipython",
    "version": 3
   },
   "file_extension": ".py",
   "mimetype": "text/x-python",
   "name": "python",
   "nbconvert_exporter": "python",
   "pygments_lexer": "ipython3",
   "version": "3.9.19"
  },
  "vscode": {
   "interpreter": {
    "hash": "2590a9e34ee6c8bdce5141410f2a072bbabd2a859a8a48acdaa85720923a90ef"
   }
  }
 },
 "nbformat": 4,
 "nbformat_minor": 2
}
