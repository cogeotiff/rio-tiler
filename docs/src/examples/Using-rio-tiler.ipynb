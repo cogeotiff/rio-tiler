{
 "cells": [
  {
   "cell_type": "markdown",
   "metadata": {},
   "source": [
    "# Introduction to rio-tiler"
   ]
  },
  {
   "cell_type": "markdown",
   "metadata": {},
   "source": [
    "The goal of this notebook is to give a quick introduction of the main rio-tiler features."
   ]
  },
  {
   "cell_type": "code",
   "execution_count": null,
   "metadata": {
    "scrolled": false,
    "tags": []
   },
   "outputs": [],
   "source": [
    "%pylab inline"
   ]
  },
  {
   "cell_type": "markdown",
   "metadata": {},
   "source": [
    "# Requirements\n",
    "\n",
    "To be able to run this notebook you'll need the following requirements:\n",
    "- rio-tiler~= 4.0"
   ]
  },
  {
   "cell_type": "code",
   "execution_count": null,
   "metadata": {},
   "outputs": [],
   "source": [
    "# !pip install rio-tiler"
   ]
  },
  {
   "cell_type": "code",
   "execution_count": null,
   "metadata": {},
   "outputs": [],
   "source": [
    "import morecantile\n",
    "from rio_tiler.io import Reader\n",
    "from rio_tiler.profiles import img_profiles\n",
    "from rio_tiler.models import ImageData"
   ]
  },
  {
   "cell_type": "markdown",
   "metadata": {},
   "source": [
    "\n"
   ]
  },
  {
   "cell_type": "code",
   "execution_count": null,
   "metadata": {},
   "outputs": [],
   "source": [
    "# For this DEMO we will use this file\n",
    "src_path = \"https://data.geo.admin.ch/ch.swisstopo.swissalti3d/swissalti3d_2019_2573-1085/swissalti3d_2019_2573-1085_0.5_2056_5728.tif\""
   ]
  },
  {
   "cell_type": "markdown",
   "metadata": {},
   "source": [
    "## rio_tiler.io.COGReader\n",
    "\n",
    "In `rio-tiler` 2.0 we introduced COGReader (renamed Reader in 4.0), which is a python class providing usefull methods to read and inspect any GDAL/rasterio raster dataset.\n",
    "\n",
    "Docs: [https://cogeotiff.github.io/rio-tiler/readers/#cogreader](https://cogeotiff.github.io/rio-tiler/readers/#cogreader) "
   ]
  },
  {
   "cell_type": "code",
   "execution_count": null,
   "metadata": {},
   "outputs": [],
   "source": [
    "?Reader"
   ]
  },
  {
   "cell_type": "markdown",
   "metadata": {},
   "source": [
    "### Info\n",
    "\n",
    "Read GDAL/Rasterio dataset metadata"
   ]
  },
  {
   "cell_type": "code",
   "execution_count": null,
   "metadata": {
    "scrolled": false
   },
   "outputs": [],
   "source": [
    "# As for Rasterio, using context manager is a good way to \n",
    "# make sure the dataset are closed when we exit.\n",
    "with Reader(src_path) as cog:\n",
    "    print(\"rasterio dataset:\")\n",
    "    print(cog.dataset)\n",
    "    print()\n",
    "    print(\"metadata from rasterio:\")\n",
    "    print(cog.dataset.meta)\n",
    "    print()\n",
    "    # Using rio-tiler Info() method\n",
    "    info = cog.info()\n",
    "    print(\"rio-tiler dataset info:\")\n",
    "    print(cog.info().dict(exclude_none=True))\n",
    "\n",
    "print(cog.dataset.closed)"
   ]
  },
  {
   "cell_type": "markdown",
   "metadata": {},
   "source": [
    "### Statistics\n",
    "\n",
    "Return basic data statistics"
   ]
  },
  {
   "cell_type": "code",
   "execution_count": null,
   "metadata": {
    "scrolled": false
   },
   "outputs": [],
   "source": [
    "with Reader(src_path) as cog:\n",
    "    meta = cog.statistics(max_size=256)\n",
    "\n",
    "    assert isinstance(meta, dict)\n",
    "    print(list(meta))\n",
    "    print(meta[\"b1\"].dict())"
   ]
  },
  {
   "cell_type": "markdown",
   "metadata": {},
   "source": [
    "#### Plot Histogram values"
   ]
  },
  {
   "cell_type": "code",
   "execution_count": null,
   "metadata": {},
   "outputs": [],
   "source": [
    "# Band 1\n",
    "plot(meta[\"b1\"].histogram[1][0:-1], meta[\"b1\"].histogram[0])"
   ]
  },
  {
   "cell_type": "markdown",
   "metadata": {},
   "source": [
    "### Preview\n",
    "\n",
    "Read a low resolution version of the data (useful when working with COG, because this method will only fetch the overview layer it needs)"
   ]
  },
  {
   "cell_type": "code",
   "execution_count": null,
   "metadata": {},
   "outputs": [],
   "source": [
    "with Reader(src_path) as cog:\n",
    "    # By default `preview()` will return an array with its longest dimension lower or equal to 1024px\n",
    "    data = cog.preview()\n",
    "    print(data.data.shape)\n",
    "    assert isinstance(data, ImageData)"
   ]
  },
  {
   "cell_type": "markdown",
   "metadata": {},
   "source": [
    "#### The ImageData class\n",
    "\n",
    "To ease data manipulation, `rio-tiler` version 2.0 uses a new `ImageData` class that holds the arrays returned by rio-tiler/rasterio low level functions.\n",
    "\n",
    "Docs: https://cogeotiff.github.io/rio-tiler/models/#imagedata"
   ]
  },
  {
   "cell_type": "code",
   "execution_count": null,
   "metadata": {
    "scrolled": true
   },
   "outputs": [],
   "source": [
    "print(f\"width: {data.width}\")\n",
    "print(f\"height: {data.height}\")\n",
    "print(f\"bands: {data.count}\")\n",
    "print(f\"crs: {data.crs}\")\n",
    "print(f\"bounds: {data.bounds}\")\n",
    "print(f\"metadata: {data.metadata}\")\n",
    "print(f\"assets: {data.assets}\")\n",
    "print(f\"dataset stats: {data.dataset_statistics}\")  # If stored in the original dataset\n",
    "\n",
    "print(type(data.data))\n",
    "print(type(data.mask))"
   ]
  },
  {
   "cell_type": "markdown",
   "metadata": {},
   "source": [
    "#### Display the data"
   ]
  },
  {
   "cell_type": "code",
   "execution_count": null,
   "metadata": {
    "scrolled": false
   },
   "outputs": [],
   "source": [
    "# Rasterio doesn't use the same axis order than visualization libraries (e.g matplotlib, PIL)\n",
    "# in order to display the data we need to change the order (using rasterio.plot.array_to_image).\n",
    "# the ImageData class wraps the rasterio function in the `data_as_image()` method.\n",
    "print(type(data))\n",
    "print(data.data.shape)\n",
    "\n",
    "image = data.data_as_image()\n",
    "# data_as_image() returns a numpy.ndarray\n",
    "print(type(image))\n",
    "print(image.shape)\n",
    "\n",
    "imshow(image)"
   ]
  },
  {
   "cell_type": "markdown",
   "metadata": {},
   "source": [
    "## Multi Spectral Data\n",
    "\n",
    "For this demo we will use some High resolution RGB-Nir data hosted on [AWS](https://registry.opendata.aws/nj-imagery/).\n",
    "\n"
   ]
  },
  {
   "cell_type": "code",
   "execution_count": null,
   "metadata": {},
   "outputs": [],
   "source": [
    "src_path = \"https://njogis-imagery.s3.amazonaws.com/2020/cog/I7D16.tif\""
   ]
  },
  {
   "cell_type": "code",
   "execution_count": null,
   "metadata": {},
   "outputs": [],
   "source": [
    "with Reader(src_path) as cog:\n",
    "    info = cog.info()\n",
    "    print(\"rio-tiler dataset info:\")\n",
    "    print(cog.info().dict(exclude_none=True))"
   ]
  },
  {
   "cell_type": "code",
   "execution_count": null,
   "metadata": {},
   "outputs": [],
   "source": [
    "with Reader(src_path) as cog:\n",
    "    meta = cog.statistics()\n",
    "\n",
    "print(list(meta))\n",
    "    \n",
    "fig, axs = plt.subplots(1, 4, sharey=True, tight_layout=True, dpi=150)\n",
    "# Red (index 1)\n",
    "axs[0].plot(meta[\"b1\"].histogram[1][0:-1], meta[\"b1\"].histogram[0])\n",
    "\n",
    "# Green (index 2)\n",
    "axs[1].plot(meta[\"b2\"].histogram[1][0:-1], meta[\"b2\"].histogram[0])\n",
    "\n",
    "# Blue (index 3)\n",
    "axs[2].plot(meta[\"b3\"].histogram[1][0:-1], meta[\"b3\"].histogram[0])\n",
    "\n",
    "# Nir (index 3)\n",
    "axs[3].plot(meta[\"b4\"].histogram[1][0:-1], meta[\"b4\"].histogram[0])"
   ]
  },
  {
   "cell_type": "markdown",
   "metadata": {},
   "source": [
    "#### Using Expression\n",
    "\n",
    "`rio-tiler` reader methods accept `indexes` option to select the bands you want to read, but also `expression` to perform band math."
   ]
  },
  {
   "cell_type": "code",
   "execution_count": null,
   "metadata": {},
   "outputs": [],
   "source": [
    "with Reader(src_path) as cog:\n",
    "    # Return only the third band\n",
    "    nir_band = cog.preview(indexes=4)\n",
    "    print(nir_band.data.shape)\n",
    "    print(nir_band.data.dtype)\n",
    "\n",
    "imshow(nir_band.data_as_image())"
   ]
  },
  {
   "cell_type": "code",
   "execution_count": null,
   "metadata": {},
   "outputs": [],
   "source": [
    "with Reader(src_path) as cog:\n",
    "    # Return only the third band\n",
    "    nrg = cog.preview(indexes=(4,3,1))\n",
    "    \n",
    "    # Data is in Uint16 so we need to rescale\n",
    "    nrg.rescale(((nrg.data.min(), nrg.data.max()),))\n",
    "\n",
    "imshow(nrg.data_as_image())"
   ]
  },
  {
   "cell_type": "code",
   "execution_count": null,
   "metadata": {},
   "outputs": [],
   "source": [
    "with Reader(src_path) as cog:\n",
    "    # Apply NDVI band math\n",
    "    # (NIR - RED) / (NIR + RED)\n",
    "    ndvi = cog.preview(expression=\"(b4-b1)/(b4+b1)\")\n",
    "    print(ndvi.data.shape)\n",
    "    print(ndvi.data.dtype)\n",
    "    print(\"NDVI range: \", ndvi.data.min(), ndvi.data.max())\n",
    "\n",
    "ndvi.rescale(in_range=((-1,1),))\n",
    "imshow(ndvi.data_as_image())"
   ]
  },
  {
   "cell_type": "markdown",
   "metadata": {},
   "source": [
    "### Tile\n",
    "\n",
    "Read data for a specific slippy map tile coordinates"
   ]
  },
  {
   "cell_type": "code",
   "execution_count": null,
   "metadata": {},
   "outputs": [],
   "source": [
    "with Reader(src_path) as cog:\n",
    "    print(f\"Bounds in dataset CRS: {cog.bounds}\")\n",
    "    print(f\"Bounds WGS84: {cog.geographic_bounds}\")\n",
    "    print(f\"MinZoom (WebMercator): {cog.minzoom}\")\n",
    "    print(f\"MaxZoom (WebMercator): {cog.maxzoom}\")"
   ]
  },
  {
   "cell_type": "code",
   "execution_count": null,
   "metadata": {},
   "outputs": [],
   "source": [
    "# rio-tiler defaults to the WebMercator Grids. The grid definition is provided by the morecantile module\n",
    "# Docs: https://github.com/developmentseed/morecantile\n",
    "tms = morecantile.tms.get(\"WebMercatorQuad\")\n",
    "print(repr(tms))\n",
    "\n",
    "# Get the list of tiles for the COG minzoom \n",
    "with Reader(src_path) as cog:\n",
    "    tile_cover = list(tms.tiles(*cog.geographic_bounds, zooms=cog.minzoom))\n",
    "\n",
    "print(f\"Nb of Z{cog.minzoom} Mercator tiles: {len(tile_cover)}\")\n",
    "print(tile_cover)"
   ]
  },
  {
   "cell_type": "code",
   "execution_count": null,
   "metadata": {},
   "outputs": [],
   "source": [
    "with Reader(src_path) as cog:\n",
    "    img_1 = cog.tile(*tile_cover[0])\n",
    "    img_1.rescale(((0, 40000),))\n",
    "    print(img_1.data.shape)\n",
    "\n",
    "    img_2 = cog.tile(*tile_cover[1])\n",
    "    img_2.rescale(((0, 40000),))\n",
    "\n",
    "    print(img_2.data.shape)"
   ]
  },
  {
   "cell_type": "code",
   "execution_count": null,
   "metadata": {},
   "outputs": [],
   "source": [
    "imshow(img_1.data_as_image()[:,:,0:3])"
   ]
  },
  {
   "cell_type": "code",
   "execution_count": null,
   "metadata": {},
   "outputs": [],
   "source": [
    "imshow(img_2.data_as_image()[:,:,0:3])"
   ]
  },
  {
   "cell_type": "code",
   "execution_count": null,
   "metadata": {},
   "outputs": [],
   "source": [
    "with Reader(src_path) as cog:\n",
    "    ndvi = cog.tile(*tile_cover[0], expression=\"(b4-b1)/(b4+b1)\")\n",
    "    print(ndvi.data.shape)\n",
    "\n",
    "ndvi.rescale(in_range=((-1,1),))\n",
    "imshow(ndvi.data[0])"
   ]
  },
  {
   "cell_type": "markdown",
   "metadata": {},
   "source": [
    "### Part \n",
    "\n",
    "Read data for a given bounding box"
   ]
  },
  {
   "cell_type": "code",
   "execution_count": null,
   "metadata": {},
   "outputs": [],
   "source": [
    "with Reader(src_path) as cog:\n",
    "    # By default `part()` will read the highest resolution. We can limit this by using the `max_size` option.\n",
    "    img = cog.part((-74.30680274963379, 40.60748547709819, -74.29478645324707, 40.61567903099978), max_size=1024)\n",
    "    print(img.data.shape)\n",
    "    print(img.bounds)\n",
    "    print(img.crs)"
   ]
  },
  {
   "cell_type": "code",
   "execution_count": null,
   "metadata": {},
   "outputs": [],
   "source": [
    "img.rescale(((0, 40000),))\n",
    "\n",
    "imshow(img.data_as_image()[:,:,0:3])"
   ]
  },
  {
   "cell_type": "markdown",
   "metadata": {},
   "source": [
    "### Point\n",
    "\n",
    "Read the pixel value for a specific lon/lat coordinate"
   ]
  },
  {
   "cell_type": "code",
   "execution_count": null,
   "metadata": {},
   "outputs": [],
   "source": [
    "with Reader(src_path) as cog:\n",
    "    values = cog.point(-74.30680274963379, 40.60748547709819)\n",
    "print(values)"
   ]
  },
  {
   "cell_type": "markdown",
   "metadata": {},
   "source": [
    "### Feature/GeoJSON\n",
    "\n",
    "Read value for a geojson feature defined area"
   ]
  },
  {
   "cell_type": "code",
   "execution_count": null,
   "metadata": {},
   "outputs": [],
   "source": [
    "feat = {\n",
    "  \"type\": \"Feature\",\n",
    "  \"properties\": {},\n",
    "  \"geometry\": {\n",
    "    \"type\": \"Polygon\",\n",
    "    \"coordinates\": [\n",
    "      [\n",
    "        [\n",
    "          -74.30384159088135,\n",
    "          40.614245638811646\n",
    "        ],\n",
    "        [\n",
    "          -74.30680274963379,\n",
    "          40.61121586776988\n",
    "        ],\n",
    "        [\n",
    "          -74.30590152740477,\n",
    "          40.608967884350946\n",
    "        ],\n",
    "        [\n",
    "          -74.30272579193115,\n",
    "          40.60748547709819\n",
    "        ],\n",
    "        [\n",
    "          -74.29875612258911,\n",
    "          40.60786015456402\n",
    "        ],\n",
    "        [\n",
    "          -74.2960524559021,\n",
    "          40.61012446497514\n",
    "        ],\n",
    "        [\n",
    "          -74.29478645324707,\n",
    "          40.61390357476733\n",
    "        ],\n",
    "        [\n",
    "          -74.29882049560547,\n",
    "          40.61515780103489\n",
    "        ],\n",
    "        [\n",
    "          -74.30294036865233,\n",
    "          40.61567903099978\n",
    "        ],\n",
    "        [\n",
    "          -74.3035626411438,\n",
    "          40.61502749290829\n",
    "        ],\n",
    "        [\n",
    "          -74.30384159088135,\n",
    "          40.614245638811646\n",
    "        ]\n",
    "      ]\n",
    "    ]\n",
    "  }\n",
    "}"
   ]
  },
  {
   "cell_type": "code",
   "execution_count": null,
   "metadata": {},
   "outputs": [],
   "source": [
    "with Reader(src_path) as cog:\n",
    "    # we use the feature to define the bounds and the mask\n",
    "    # but we use `dst_crs` options to keep the projection from the input dataset\n",
    "    # By default `feature()` will read the highest resolution. We can limit this by using the `max_size` option.\n",
    "    img = cog.feature(feat, dst_crs=cog.crs, max_size=1024)\n",
    "    print(img.data.shape)\n",
    "    print(img.bounds)\n",
    "    print(img.crs)"
   ]
  },
  {
   "cell_type": "code",
   "execution_count": null,
   "metadata": {
    "scrolled": true
   },
   "outputs": [],
   "source": [
    "img.rescale(((0, 40000),))\n",
    "imshow(img.data_as_image()[:,:,0:3])"
   ]
  }
 ],
 "metadata": {
  "interpreter": {
   "hash": "e5a596c8625da0593f23bdd5ea51ce5c4572779fa5edc69fb6a18fc94feb7fb6"
  },
  "kernelspec": {
   "display_name": "Python 3 (ipykernel)",
   "language": "python",
   "name": "python3"
  },
  "language_info": {
   "codemirror_mode": {
    "name": "ipython",
    "version": 3
   },
   "file_extension": ".py",
   "mimetype": "text/x-python",
   "name": "python",
   "nbconvert_exporter": "python",
   "pygments_lexer": "ipython3",
   "version": "3.9.13"
  }
 },
 "nbformat": 4,
 "nbformat_minor": 2
}
