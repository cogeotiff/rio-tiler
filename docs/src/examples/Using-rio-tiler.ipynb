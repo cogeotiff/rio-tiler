{
 "cells": [
  {
   "cell_type": "markdown",
   "metadata": {},
   "source": [
    "# Introduction to rio-tiler"
   ]
  },
  {
   "cell_type": "markdown",
   "metadata": {},
   "source": [
    "The goal of this notebook is to give a quick introduction of the main rio-tiler features."
   ]
  },
  {
   "cell_type": "code",
   "execution_count": null,
   "metadata": {
    "scrolled": false,
    "tags": []
   },
   "outputs": [],
   "source": [
    "%pylab inline"
   ]
  },
  {
   "cell_type": "markdown",
   "metadata": {},
   "source": [
    "# Requirements\n",
    "\n",
    "To be able to run this notebook you'll need the following requirements:\n",
    "- rio-tiler~= 3.0"
   ]
  },
  {
   "cell_type": "code",
   "execution_count": null,
   "metadata": {},
   "outputs": [],
   "source": [
    "# !pip install rio-tiler"
   ]
  },
  {
   "cell_type": "code",
   "execution_count": null,
   "metadata": {},
   "outputs": [],
   "source": [
    "import morecantile\n",
    "from rio_tiler.io import COGReader\n",
    "from rio_tiler.profiles import img_profiles\n",
    "from rio_tiler.models import ImageData"
   ]
  },
  {
   "cell_type": "markdown",
   "metadata": {},
   "source": [
    "## Data\n",
    "\n",
    "For this demo we will use some NAIP data hosted on Azure.\n",
    "\n",
    "https://azure.microsoft.com/fr-fr/services/open-datasets/catalog/naip/\n",
    "\n",
    "\n",
    "The data is similar to the data hosted on [AWS](https://registry.opendata.aws/naip/), but using the one on Azure is easier because it offers direct `http` access without needing an AWS account."
   ]
  },
  {
   "cell_type": "code",
   "execution_count": null,
   "metadata": {},
   "outputs": [],
   "source": [
    "# For this DEMO we will use this file\n",
    "src_path = \"https://naipblobs.blob.core.windows.net/naip/v002/al/2019/al_60cm_2019/30087/m_3008701_ne_16_060_20191115.tif\""
   ]
  },
  {
   "cell_type": "markdown",
   "metadata": {},
   "source": [
    "## rio_tiler.io.COGReader\n",
    "\n",
    "In `rio-tiler` 2.0 we introduced COGReader, which is a python class providing usefull methods to read and inspect any GDAL/rasterio raster dataset.\n",
    "\n",
    "Docs: [https://cogeotiff.github.io/rio-tiler/readers/#cogreader](https://cogeotiff.github.io/rio-tiler/readers/#cogreader) "
   ]
  },
  {
   "cell_type": "code",
   "execution_count": null,
   "metadata": {},
   "outputs": [],
   "source": [
    "?COGReader"
   ]
  },
  {
   "cell_type": "markdown",
   "metadata": {},
   "source": [
    "### Info\n",
    "\n",
    "Read GDAL/Rasterio dataset metadata"
   ]
  },
  {
   "cell_type": "code",
   "execution_count": null,
   "metadata": {
    "scrolled": false
   },
   "outputs": [],
   "source": [
    "# As for Rasterio, using context manager is a good way to \n",
    "# make sure the dataset are closed when we exit.\n",
    "with COGReader(src_path) as cog:\n",
    "    print(\"rasterio dataset:\")\n",
    "    print(cog.dataset)\n",
    "    print()\n",
    "    print(\"metadata from rasterio:\")\n",
    "    print(cog.dataset.meta)\n",
    "    print()\n",
    "    # Using rio-tiler Info() method\n",
    "    info = cog.info()\n",
    "    print(\"rio-tiler dataset info:\")\n",
    "    print(cog.info().dict(exclude_none=True))\n",
    "\n",
    "print(cog.dataset.closed)"
   ]
  },
  {
   "cell_type": "markdown",
   "metadata": {},
   "source": [
    "### Statistics\n",
    "\n",
    "Return basic data statistics"
   ]
  },
  {
   "cell_type": "code",
   "execution_count": null,
   "metadata": {
    "scrolled": false
   },
   "outputs": [],
   "source": [
    "with COGReader(src_path) as cog:\n",
    "    meta = cog.statistics(max_size=256)\n",
    "\n",
    "    assert isinstance(meta, dict)\n",
    "    print(list(meta))\n",
    "    print(meta[\"1\"].dict())"
   ]
  },
  {
   "cell_type": "markdown",
   "metadata": {},
   "source": [
    "#### Plot Histogram values"
   ]
  },
  {
   "cell_type": "code",
   "execution_count": null,
   "metadata": {},
   "outputs": [],
   "source": [
    "fig, axs = plt.subplots(1, 4, sharey=True, tight_layout=True, dpi=150)\n",
    "# Red (index 1)\n",
    "axs[0].plot(meta[\"1\"].histogram[1][0:-1], meta[\"1\"].histogram[0])\n",
    "\n",
    "# Green (index 2)\n",
    "axs[1].plot(meta[\"2\"].histogram[1][0:-1], meta[\"2\"].histogram[0])\n",
    "\n",
    "# Blue (index 3)\n",
    "axs[2].plot(meta[\"3\"].histogram[1][0:-1], meta[\"3\"].histogram[0])\n",
    "\n",
    "# NIR (index 4)\n",
    "axs[3].plot(meta[\"4\"].histogram[1][0:-1], meta[\"4\"].histogram[0])"
   ]
  },
  {
   "cell_type": "markdown",
   "metadata": {},
   "source": [
    "### Preview\n",
    "\n",
    "Read a low resolution version of the data (useful when working with COG, because this method will only fetch the overview layer it needs)"
   ]
  },
  {
   "cell_type": "code",
   "execution_count": null,
   "metadata": {},
   "outputs": [],
   "source": [
    "with COGReader(src_path) as cog:\n",
    "    # By default `preview()` will return an array with its longest dimension lower or equal to 1024px\n",
    "    data = cog.preview()\n",
    "    print(data.data.shape)\n",
    "    assert isinstance(data, ImageData)"
   ]
  },
  {
   "cell_type": "markdown",
   "metadata": {},
   "source": [
    "#### The ImageData class\n",
    "\n",
    "To ease data manipulation, `rio-tiler` version 2.0 uses a new `ImageData` class that holds the arrays returned by rio-tiler/rasterio low level functions.\n",
    "\n",
    "Docs: https://cogeotiff.github.io/rio-tiler/models/#imagedata"
   ]
  },
  {
   "cell_type": "code",
   "execution_count": null,
   "metadata": {
    "scrolled": true
   },
   "outputs": [],
   "source": [
    "print(f\"width: {img.width}\")\n",
    "print(f\"height: {img.height}\")\n",
    "print(f\"bands: {img.count}\")\n",
    "print(f\"crs: {img.crs}\")\n",
    "print(f\"bounds: {img.bounds}\")\n",
    "\n",
    "print(type(img.data))\n",
    "print(type(img.mask))"
   ]
  },
  {
   "cell_type": "markdown",
   "metadata": {},
   "source": [
    "#### Display the data"
   ]
  },
  {
   "cell_type": "code",
   "execution_count": null,
   "metadata": {},
   "outputs": [],
   "source": [
    "# Rasterio doesn't use the same axis order than visualization libraries (e.g matplotlib, PIL)\n",
    "# in order to display the data we need to change the order (using rasterio.plot.array_to_image).\n",
    "# the ImageData class wraps the rasterio function in the `data_as_image()` method.\n",
    "print(type(img))\n",
    "print(img.data.shape)\n",
    "\n",
    "image = img.data_as_image()\n",
    "# data_as_image() returns a numpy.ndarray\n",
    "print(type(image))\n",
    "print(image.shape)\n",
    "\n",
    "# Use only the first 3 bands (RGB)\n",
    "imshow(image[:,:,0:3])"
   ]
  },
  {
   "cell_type": "code",
   "execution_count": null,
   "metadata": {},
   "outputs": [],
   "source": [
    "# Display NRG image\n",
    "# The NAIP imagery has 4 bands Red, Green, Blue, NIR\n",
    "imshow(image[:,:,[3,0,1]])"
   ]
  },
  {
   "cell_type": "markdown",
   "metadata": {},
   "source": [
    "#### Using Expression\n",
    "\n",
    "`rio-tiler` reader methods accept `indexes` option to select the bands you want to read, but also `expression` to perform band math."
   ]
  },
  {
   "cell_type": "code",
   "execution_count": null,
   "metadata": {},
   "outputs": [],
   "source": [
    "with COGReader(src_path) as cog:\n",
    "    # Return only the last band\n",
    "    nir_band = cog.preview(indexes=4)\n",
    "    print(nir_band.data.shape)\n",
    "    print(nir_band.data.dtype)"
   ]
  },
  {
   "cell_type": "code",
   "execution_count": null,
   "metadata": {},
   "outputs": [],
   "source": [
    "with COGReader(src_path) as cog:\n",
    "    # Apply NDVI band math\n",
    "    # (NIR - RED) / (NIR + RED)\n",
    "    ndvi = cog.preview(expression=\"(b4-b1)/(b4+b1)\")\n",
    "    print(ndvi.data.shape)\n",
    "    print(ndvi.data.dtype)\n",
    "    print(\"NDVI range: \", ndvi.data.min(), ndvi.data.max())\n",
    "\n",
    "image = ndvi.post_process(in_range=((-1,1),))\n",
    "imshow(image.data[0])"
   ]
  },
  {
   "cell_type": "markdown",
   "metadata": {},
   "source": [
    "### Tile\n",
    "\n",
    "Read data for a specific slippy map tile coordinates"
   ]
  },
  {
   "cell_type": "code",
   "execution_count": null,
   "metadata": {},
   "outputs": [],
   "source": [
    "with COGReader(src_path) as cog:\n",
    "    print(f\"Bounds in dataset CRS: {cog.bounds}\")\n",
    "    print(f\"Bounds WGS84: {cog.geographic_bounds}\")\n",
    "    print(f\"MinZoom (WebMercator): {cog.minzoom}\")\n",
    "    print(f\"MaxZoom (WebMercator): {cog.maxzoom}\")"
   ]
  },
  {
   "cell_type": "code",
   "execution_count": null,
   "metadata": {},
   "outputs": [],
   "source": [
    "# rio-tiler defaults to the WebMercator Grids. The grid definition is provided by the morecantile module\n",
    "# Docs: https://github.com/developmentseed/morecantile\n",
    "tms = morecantile.tms.get(\"WebMercatorQuad\")\n",
    "print(repr(tms))\n",
    "\n",
    "# Get the list of tiles for the COG minzoom \n",
    "with COGReader(src_path) as cog:\n",
    "    tile_cover = list(tms.tiles(*cog.geographic_bounds, zooms=cog.minzoom))\n",
    "\n",
    "print(f\"Nb of Z{cog.minzoom} Mercator tiles: {len(tile_cover)}\")\n",
    "print(tile_cover)"
   ]
  },
  {
   "cell_type": "code",
   "execution_count": null,
   "metadata": {},
   "outputs": [],
   "source": [
    "with COGReader(src_path) as cog:\n",
    "    img_1 = cog.tile(*tile_cover[0])\n",
    "    print(img_1.data.shape)\n",
    "\n",
    "    img_2 = cog.tile(*tile_cover[1])\n",
    "    print(img_2.data.shape)"
   ]
  },
  {
   "cell_type": "code",
   "execution_count": null,
   "metadata": {},
   "outputs": [],
   "source": [
    "imshow(img_1.data_as_image()[:,:,0:3])"
   ]
  },
  {
   "cell_type": "code",
   "execution_count": null,
   "metadata": {},
   "outputs": [],
   "source": [
    "imshow(img_2.data_as_image()[:,:,0:3])"
   ]
  },
  {
   "cell_type": "code",
   "execution_count": null,
   "metadata": {},
   "outputs": [],
   "source": [
    "with COGReader(src_path) as cog:\n",
    "    ndvi = cog.tile(*tile_cover[0], expression=\"(b4-b1)/(b4+b1)\")\n",
    "    print(ndvi.data.shape)\n",
    "\n",
    "image = ndvi.post_process(in_range=((-1,1),))\n",
    "imshow(image.data[0])"
   ]
  },
  {
   "cell_type": "markdown",
   "metadata": {},
   "source": [
    "### Part \n",
    "\n",
    "Read data for a given bounding box"
   ]
  },
  {
   "cell_type": "code",
   "execution_count": null,
   "metadata": {},
   "outputs": [],
   "source": [
    "with COGReader(src_path) as cog:\n",
    "    # By default `part()` will read the highest resolution. We can limit this by using the `max_size` option.\n",
    "    img = cog.part((-87.92238235473633, 30.954131465929947, -87.87843704223633, 30.97996389724008), max_size=1024)\n",
    "    print(img.data.shape)\n",
    "    print(img.bounds)\n",
    "    print(img.crs)"
   ]
  },
  {
   "cell_type": "code",
   "execution_count": null,
   "metadata": {},
   "outputs": [],
   "source": [
    "imshow(img.data_as_image()[:,:,0:3])"
   ]
  },
  {
   "cell_type": "markdown",
   "metadata": {},
   "source": [
    "### Point\n",
    "\n",
    "Read the pixel value for a specific lon/lat coordinate"
   ]
  },
  {
   "cell_type": "code",
   "execution_count": null,
   "metadata": {},
   "outputs": [],
   "source": [
    "with COGReader(src_path) as cog:\n",
    "    values = cog.point(-87.92238235473633, 30.954131465929947)\n",
    "print(values)"
   ]
  },
  {
   "cell_type": "markdown",
   "metadata": {},
   "source": [
    "### Feature/GeoJSON\n",
    "\n",
    "Read value for a geojson feature defined area"
   ]
  },
  {
   "cell_type": "code",
   "execution_count": null,
   "metadata": {},
   "outputs": [],
   "source": [
    "feat = {\"type\":\"Feature\",\"properties\":{},\"geometry\":{\"type\":\"Polygon\",\"coordinates\":[[[-87.91989326477051,30.977388327504983],[-87.92341232299805,30.9747390975502],[-87.92015075683594,30.97282571907513],[-87.91723251342773,30.971869015455276],[-87.9192066192627,30.96914603729001],[-87.92032241821289,30.965466213678003],[-87.91869163513184,30.960093416531947],[-87.91577339172363,30.957885330068873],[-87.91028022766113,30.95700208119036],[-87.90839195251465,30.955971613842785],[-87.91105270385741,30.954646710918635],[-87.91508674621582,30.954793923262105],[-87.92135238647461,30.953321789618688],[-87.92126655578612,30.947506639952913],[-87.92324066162108,30.94353152388283],[-87.9224681854248,30.9393353886492],[-87.92109489440918,30.936832343075928],[-87.92075157165527,30.9326359137502],[-87.91646003723145,30.934034743992026],[-87.91534423828124,30.937494920341457],[-87.91611671447754,30.941764752554082],[-87.91053771972656,30.943973211611713],[-87.91414260864258,30.948242754412334],[-87.91671752929688,30.949862186261473],[-87.91191101074219,30.949494135978654],[-87.90899276733398,30.950377454275596],[-87.90349960327147,30.95045106376507],[-87.90298461914062,30.953174575006617],[-87.89912223815918,30.953763432093723],[-87.89543151855469,30.953027360167685],[-87.89122581481934,30.955529981576515],[-87.89551734924316,30.959651803323208],[-87.89912223815918,30.960903035444577],[-87.90238380432129,30.95979900795299],[-87.90633201599121,30.96053502769875],[-87.9082202911377,30.963479049959364],[-87.91345596313477,30.964877428739207],[-87.91259765625,30.967306143211744],[-87.9085636138916,30.965466213678003],[-87.90547370910643,30.96553981154008],[-87.90667533874512,30.96885165662014],[-87.90684700012207,30.97039714501039],[-87.89517402648926,30.972972903396382],[-87.89328575134277,30.97643166961476],[-87.8957748413086,30.979080852589725],[-87.89852142333984,30.977093972252376],[-87.90006637573242,30.97643166961476],[-87.9019546508789,30.978712914907245],[-87.90633201599121,30.97805062350409],[-87.90461540222168,30.975107050552193],[-87.90521621704102,30.97422396096446],[-87.90796279907227,30.976358080149122],[-87.90976524353026,30.976063721719164],[-87.90907859802245,30.973856004558257],[-87.9111385345459,30.974076778572197],[-87.91379928588867,30.975769362381378],[-87.9177474975586,30.97643166961476],[-87.91929244995116,30.977314738776947],[-87.91989326477051,30.977388327504983]]]}}"
   ]
  },
  {
   "cell_type": "code",
   "execution_count": null,
   "metadata": {},
   "outputs": [],
   "source": [
    "with COGReader(src_path) as cog:\n",
    "    # we use the feature to define the bounds and the mask\n",
    "    # but we use `dst_crs` options to keep the projection from the input dataset\n",
    "    # By default `feature()` will read the highest resolution. We can limit this by using the `max_size` option.\n",
    "    img = cog.feature(feat, dst_crs=cog.crs, max_size=1024)\n",
    "    print(img.data.shape)\n",
    "    print(img.bounds)\n",
    "    print(img.crs)"
   ]
  },
  {
   "cell_type": "code",
   "execution_count": null,
   "metadata": {
    "scrolled": true
   },
   "outputs": [],
   "source": [
    "imshow(img.data_as_image()[:,:,0:3])"
   ]
  },
  {
   "cell_type": "code",
   "execution_count": null,
   "metadata": {},
   "outputs": [],
   "source": []
  }
 ],
 "metadata": {
  "interpreter": {
   "hash": "e5a596c8625da0593f23bdd5ea51ce5c4572779fa5edc69fb6a18fc94feb7fb6"
  },
  "kernelspec": {
   "display_name": "Python 3.8.2 64-bit",
   "name": "python3"
  },
  "language_info": {
   "codemirror_mode": {
    "name": "ipython",
    "version": 3
   },
   "file_extension": ".py",
   "mimetype": "text/x-python",
   "name": "python",
   "nbconvert_exporter": "python",
   "pygments_lexer": "ipython3",
   "version": "3.8.2"
  }
 },
 "nbformat": 4,
 "nbformat_minor": 2
}
