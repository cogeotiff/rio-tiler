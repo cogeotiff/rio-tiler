{
 "cells": [
  {
   "cell_type": "markdown",
   "metadata": {},
   "source": [
    "# Introduction to TileMatrixSets"
   ]
  },
  {
   "cell_type": "markdown",
   "metadata": {},
   "source": [
    "The goal of this notebook is to give a quick introduction to the new TMS option in rio-tiler."
   ]
  },
  {
   "cell_type": "markdown",
   "metadata": {},
   "source": [
    "# Requirements\n",
    "\n",
    "To be able to run this notebook you'll need the following requirements:\n",
    "- rio-tiler~=7.0\n",
    "- ipyleaflet"
   ]
  },
  {
   "cell_type": "code",
   "execution_count": 1,
   "metadata": {},
   "outputs": [],
   "source": [
    "# !pip install rio-tiler\n",
    "# !pip install ipyleaflet"
   ]
  },
  {
   "cell_type": "code",
   "execution_count": 8,
   "metadata": {},
   "outputs": [],
   "source": [
    "import morecantile\n",
    "from ipyleaflet import Map, TileLayer, projections"
   ]
  },
  {
   "cell_type": "markdown",
   "metadata": {},
   "source": [
    "## Data\n",
    "\n",
    "For this demo we will use some High resolution RGB-Nir data hosted on [AWS](https://registry.opendata.aws/nj-imagery/)."
   ]
  },
  {
   "cell_type": "code",
   "execution_count": 9,
   "metadata": {},
   "outputs": [],
   "source": [
    "# For this DEMO we will use this file\n",
    "src_path = \"https://njogis-imagery.s3.amazonaws.com/2020/cog/I7D16.tif\""
   ]
  },
  {
   "cell_type": "markdown",
   "metadata": {},
   "source": [
    "## Tile Server\n",
    "\n",
    "For this demo, we need to create a minimal tile server."
   ]
  },
  {
   "cell_type": "code",
   "execution_count": 13,
   "metadata": {},
   "outputs": [],
   "source": [
    "from concurrent import futures\n",
    "\n",
    "from tornado import gen, web\n",
    "from tornado.concurrent import run_on_executor\n",
    "from tornado.httpserver import HTTPServer\n",
    "\n",
    "from rio_tiler.errors import TileOutsideBounds\n",
    "from rio_tiler.io import Reader\n",
    "from rio_tiler.profiles import img_profiles\n",
    "\n",
    "\n",
    "class TileServer:\n",
    "\n",
    "    def __init__(self, src_path):\n",
    "        \"\"\"Initialize Tornado app.\"\"\"\n",
    "        self.server = None\n",
    "        self.app = web.Application(\n",
    "            [\n",
    "                (r\"^/tiles/(\\w+)/(\\d+)/(\\d+)/(\\d+)\", TileHandler, {\"url\": src_path}),\n",
    "            ]\n",
    "        )\n",
    "\n",
    "    def start(self):\n",
    "        \"\"\"Start tile server.\"\"\"\n",
    "        self.server = HTTPServer(self.app)\n",
    "        self.server.listen(8080)\n",
    "\n",
    "    def stop(self):\n",
    "        \"\"\"Stop tile server.\"\"\"\n",
    "        if self.server:\n",
    "            self.server.stop()\n",
    "\n",
    "\n",
    "class TileHandler(web.RequestHandler):\n",
    "    \"\"\"Tile requests handler.\"\"\"\n",
    "\n",
    "    executor = futures.ThreadPoolExecutor(max_workers=16)\n",
    "\n",
    "    def initialize(self, url):\n",
    "        \"\"\"Initialize tiles handler.\"\"\"\n",
    "        self.url = url\n",
    "\n",
    "    @run_on_executor\n",
    "    def _get_tile(self, tms, z, x, y):\n",
    "\n",
    "        try:\n",
    "            with Reader(self.url, tms=morecantile.tms.get(tms)) as cog:\n",
    "                img = cog.tile(x, y, z, indexes=(1, 2, 3))\n",
    "        except TileOutsideBounds:\n",
    "            raise web.HTTPError(404)\n",
    "\n",
    "        prof = img_profiles.get(\"PNG\", {})\n",
    "        return img.render(img_format=\"PNG\", **prof)\n",
    "\n",
    "    @gen.coroutine\n",
    "    def get(self, tms, z, x, y):\n",
    "        \"\"\"Retunrs tile data and header.\"\"\"\n",
    "        self.set_header(\"Access-Control-Allow-Origin\", \"*\")\n",
    "        self.set_header(\"Access-Control-Allow-Methods\", \"GET\")\n",
    "        self.set_header(\"Content-Type\", \"image/png\")\n",
    "        self.set_header(\"Cache-Control\", \"no-store, no-cache, must-revalidate\")\n",
    "        res = yield self._get_tile(tms, int(z), int(x), int(y))\n",
    "        self.write(res)\n",
    "\n",
    "\n",
    "ts = TileServer(src_path)\n",
    "ts.start()"
   ]
  },
  {
   "cell_type": "markdown",
   "metadata": {},
   "source": [
    "List the supported TMS from morecantile"
   ]
  },
  {
   "cell_type": "code",
   "execution_count": null,
   "metadata": {
    "scrolled": false
   },
   "outputs": [],
   "source": [
    "print(\"Supported TMS:\")\n",
    "for name in morecantile.tms.list():\n",
    "    print(\"-\", name)"
   ]
  },
  {
   "cell_type": "markdown",
   "metadata": {},
   "source": [
    "## WebMercator TMS"
   ]
  },
  {
   "cell_type": "code",
   "execution_count": null,
   "metadata": {},
   "outputs": [],
   "source": [
    "with Reader(src_path) as cog:\n",
    "    info = cog.info()\n",
    "    minzoom = cog.minzoom\n",
    "    maxzoom = cog.maxzoom\n",
    "    bounds = cog.get_geographic_bounds(cog.tms.rasterio_geographic_crs)\n",
    "\n",
    "print(info.model_dump(exclude_none=True))\n",
    "print(bounds)\n",
    "print(minzoom, maxzoom)\n",
    "\n",
    "center = ((bounds[1] + bounds[3]) / 2, (bounds[0] + bounds[2]) / 2)\n",
    "m = Map(center=center, zoom=minzoom, basemap={})\n",
    "\n",
    "layer = TileLayer(\n",
    "    url=\"http://127.0.0.1:8080/tiles/WebMercatorQuad/{z}/{x}/{y}\",\n",
    "    min_zoom=minzoom,\n",
    "    max_zoom=maxzoom,\n",
    "    opacity=1,\n",
    ")\n",
    "m.add_layer(layer)\n",
    "m"
   ]
  },
  {
   "cell_type": "markdown",
   "metadata": {},
   "source": [
    "## WGS84 TMS"
   ]
  },
  {
   "cell_type": "code",
   "execution_count": null,
   "metadata": {
    "scrolled": false
   },
   "outputs": [],
   "source": [
    "with Reader(src_path, tms=morecantile.tms.get(\"WorldCRS84Quad\")) as cog:\n",
    "    info = cog.info()\n",
    "    minzoom = cog.minzoom\n",
    "    maxzoom = cog.maxzoom\n",
    "    bounds = cog.get_geographic_bounds(cog.tms.rasterio_geographic_crs)\n",
    "\n",
    "print(info.model_dump(exclude_none=True))\n",
    "\n",
    "center = ((bounds[1] + bounds[3]) / 2, (bounds[0] + bounds[2]) / 2)\n",
    "m = Map(center=center, zoom=minzoom, basemap={}, crs=projections.EPSG4326)\n",
    "\n",
    "layer = TileLayer(\n",
    "    url=\"http://127.0.0.1:8080/tiles/WorldCRS84Quad/{z}/{x}/{y}\",\n",
    "    min_zoom=minzoom,\n",
    "    max_zoom=maxzoom,\n",
    "    opacity=1,\n",
    ")\n",
    "m.add_layer(layer)\n",
    "m"
   ]
  },
  {
   "cell_type": "code",
   "execution_count": 18,
   "metadata": {},
   "outputs": [],
   "source": [
    "ts.stop()"
   ]
  },
  {
   "cell_type": "code",
   "execution_count": null,
   "metadata": {},
   "outputs": [],
   "source": []
  }
 ],
 "metadata": {
  "kernelspec": {
   "display_name": "Python 3 (ipykernel)",
   "language": "python",
   "name": "python3"
  },
  "language_info": {
   "codemirror_mode": {
    "name": "ipython",
    "version": 3
   },
   "file_extension": ".py",
   "mimetype": "text/x-python",
   "name": "python",
   "nbconvert_exporter": "python",
   "pygments_lexer": "ipython3",
   "version": "3.9.19"
  }
 },
 "nbformat": 4,
 "nbformat_minor": 2
}
