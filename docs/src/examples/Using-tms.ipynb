{
 "cells": [
  {
   "cell_type": "markdown",
   "metadata": {},
   "source": [
    "# Introduction to TileMatrixSets"
   ]
  },
  {
   "cell_type": "markdown",
   "metadata": {},
   "source": [
    "The goal of this notebook is to give a quick introduction to the new TMS option in rio-tiler."
   ]
  },
  {
   "cell_type": "markdown",
   "metadata": {},
   "source": [
    "# Requirements\n",
    "\n",
    "To be able to run this notebook you'll need the following requirements:\n",
    "- rio-tiler~= 4.0\n",
    "- ipyleaflet"
   ]
  },
  {
   "cell_type": "code",
   "execution_count": 2,
   "metadata": {},
   "outputs": [],
   "source": [
    "# !pip install rio-tiler\n",
    "# !pip install ipyleaflet"
   ]
  },
  {
   "cell_type": "code",
   "execution_count": 3,
   "metadata": {},
   "outputs": [],
   "source": [
    "import morecantile\n",
    "from ipyleaflet import (\n",
    "    Map,\n",
    "    basemaps,\n",
    "    basemap_to_tiles,\n",
    "    TileLayer,\n",
    "    WMSLayer,\n",
    "    GeoJSON,\n",
    "    projections\n",
    ")"
   ]
  },
  {
   "cell_type": "markdown",
   "metadata": {},
   "source": [
    "## Data\n",
    "\n",
    "For this demo we will use some High resolution RGB-Nir data hosted on [AWS](https://registry.opendata.aws/nj-imagery/)."
   ]
  },
  {
   "cell_type": "code",
   "execution_count": 4,
   "metadata": {},
   "outputs": [],
   "source": [
    "# For this DEMO we will use this file\n",
    "src_path = \"https://njogis-imagery.s3.amazonaws.com/2020/cog/I7D16.tif\""
   ]
  },
  {
   "cell_type": "markdown",
   "metadata": {},
   "source": [
    "## Tile Server\n",
    "\n",
    "For this demo, we need to create a minimal tile server."
   ]
  },
  {
   "cell_type": "code",
   "execution_count": 5,
   "metadata": {},
   "outputs": [],
   "source": [
    "import json\n",
    "from concurrent import futures\n",
    "\n",
    "from tornado import web\n",
    "from tornado import gen\n",
    "from tornado.httpserver import HTTPServer\n",
    "from tornado.concurrent import run_on_executor\n",
    "\n",
    "from rio_tiler.io import Reader\n",
    "from rio_tiler.errors import TileOutsideBounds\n",
    "from rio_tiler.profiles import img_profiles\n",
    "\n",
    "class TileServer:\n",
    "    \n",
    "    def __init__(self, src_path):\n",
    "        \"\"\"Initialize Tornado app.\"\"\"\n",
    "        self.server = None\n",
    "        self.app = web.Application([\n",
    "            (r\"^/tiles/(\\w+)/(\\d+)/(\\d+)/(\\d+)\", TileHandler, {\"url\": src_path}),\n",
    "        ])\n",
    "\n",
    "    def start(self):\n",
    "        \"\"\"Start tile server.\"\"\"\n",
    "        self.server = HTTPServer(self.app)\n",
    "        self.server.listen(8080)\n",
    "  \n",
    "    def stop(self):\n",
    "        \"\"\"Stop tile server.\"\"\"\n",
    "        if self.server:\n",
    "            self.server.stop()\n",
    "\n",
    "\n",
    "class TileHandler(web.RequestHandler):\n",
    "    \"\"\"Tile requests handler.\"\"\"\n",
    "\n",
    "    executor = futures.ThreadPoolExecutor(max_workers=16)\n",
    "\n",
    "    def initialize(self, url):\n",
    "        \"\"\"Initialize tiles handler.\"\"\"\n",
    "        self.url = url\n",
    "\n",
    "    @run_on_executor\n",
    "    def _get_tile(self, tms, z, x, y):\n",
    "\n",
    "        try:\n",
    "            with Reader(self.url, tms=morecantile.tms.get(tms)) as cog:\n",
    "                img = cog.tile(x, y, z, indexes=(1,2,3))\n",
    "        except TileOutsideBounds:\n",
    "            raise web.HTTPError(404)\n",
    "\n",
    "        prof = img_profiles.get(\"PNG\", {})\n",
    "        return img.render(img_format=\"PNG\", **prof)\n",
    "\n",
    "    @gen.coroutine\n",
    "    def get(self, tms, z, x, y):\n",
    "        \"\"\"Retunrs tile data and header.\"\"\"\n",
    "        self.set_header(\"Access-Control-Allow-Origin\", \"*\")\n",
    "        self.set_header(\"Access-Control-Allow-Methods\", \"GET\")\n",
    "        self.set_header(\"Content-Type\", \"image/png\")\n",
    "        self.set_header(\"Cache-Control\", \"no-store, no-cache, must-revalidate\")\n",
    "        res = yield self._get_tile(tms, int(z), int(x), int(y))\n",
    "        self.write(res)\n",
    "\n",
    "\n",
    "ts = TileServer(src_path)\n",
    "ts.start()"
   ]
  },
  {
   "cell_type": "markdown",
   "metadata": {},
   "source": [
    "List the supported TMS from morecantile"
   ]
  },
  {
   "cell_type": "code",
   "execution_count": 6,
   "metadata": {
    "scrolled": false
   },
   "outputs": [
    {
     "name": "stdout",
     "output_type": "stream",
     "text": [
      "Supported TMS:\n",
      "- LINZAntarticaMapTilegrid | urn:ogc:def:crs:EPSG::5482\n",
      "- EuropeanETRS89_LAEAQuad | urn:ogc:def:crs:EPSG::3035\n",
      "- CanadianNAD83_LCC | urn:ogc:def:crs:EPSG::3978\n",
      "- UPSArcticWGS84Quad | urn:ogc:def:crs:EPSG::5041\n",
      "- NZTM2000 | urn:ogc:def:crs:EPSG::2193\n",
      "- NZTM2000Quad | urn:ogc:def:crs:EPSG::2193\n",
      "- UTM31WGS84Quad | urn:ogc:def:crs:EPSG::32631\n",
      "- UPSAntarcticWGS84Quad | urn:ogc:def:crs:EPSG::5042\n",
      "- WorldMercatorWGS84Quad | urn:ogc:def:crs:EPSG::3395\n",
      "- WGS1984Quad | urn:ogc:def:crs:EPSG::4326\n",
      "- WorldCRS84Quad | urn:ogc:def:crs:OGC::CRS84\n",
      "- WebMercatorQuad | urn:ogc:def:crs:EPSG::3857\n"
     ]
    }
   ],
   "source": [
    "print(\"Supported TMS:\")\n",
    "for name, tms in morecantile.tms.tms.items():\n",
    "    print(\"-\", name, \"|\",tms.crs)"
   ]
  },
  {
   "cell_type": "markdown",
   "metadata": {},
   "source": [
    "## WebMercator TMS"
   ]
  },
  {
   "cell_type": "code",
   "execution_count": 9,
   "metadata": {},
   "outputs": [
    {
     "name": "stdout",
     "output_type": "stream",
     "text": [
      "{'bounds': BoundingBox(left=-74.3095632062702, bottom=40.603994417539994, right=-74.29151245384847, top=40.61775082944064), 'minzoom': 14, 'maxzoom': 19, 'band_metadata': [('b1', {}), ('b2', {}), ('b3', {}), ('b4', {})], 'band_descriptions': [('b1', ''), ('b2', ''), ('b3', ''), ('b4', '')], 'dtype': 'uint16', 'nodata_type': 'None', 'colorinterp': ['red', 'green', 'blue', 'undefined'], 'driver': 'GTiff', 'count': 4, 'overviews': [2, 4, 8, 16], 'width': 5000, 'height': 5000}\n"
     ]
    },
    {
     "data": {
      "application/vnd.jupyter.widget-view+json": {
       "model_id": "7b640ef0c2b34a37902653915778514d",
       "version_major": 2,
       "version_minor": 0
      },
      "text/plain": [
       "Map(center=[40.610872623490316, -74.30053783005934], controls=(ZoomControl(options=['position', 'zoom_in_text'…"
      ]
     },
     "execution_count": 9,
     "metadata": {},
     "output_type": "execute_result"
    }
   ],
   "source": [
    "with Reader(src_path) as cog:\n",
    "    info = cog.info()\n",
    "    \n",
    "print(info.dict(exclude_none=True))\n",
    "\n",
    "bounds = info.bounds\n",
    "center = ((bounds[1] + bounds[3]) / 2, (bounds[0] + bounds[2]) / 2)\n",
    "m = Map(center=center, zoom=info.minzoom, basemap={})\n",
    "\n",
    "layer = TileLayer(\n",
    "    url=\"http://127.0.0.1:8080/tiles/WebMercatorQuad/{z}/{x}/{y}\",\n",
    "    min_zoom=info.minzoom,\n",
    "    max_zoom=info.maxzoom,\n",
    "    opacity=1,\n",
    ")\n",
    "m.add_layer(layer)\n",
    "m"
   ]
  },
  {
   "cell_type": "markdown",
   "metadata": {},
   "source": [
    "## WGS84 TMS"
   ]
  },
  {
   "cell_type": "code",
   "execution_count": null,
   "metadata": {
    "scrolled": false
   },
   "outputs": [],
   "source": [
    "with Reader(src_path, tms=morecantile.tms.get(\"WorldCRS84Quad\")) as cog:\n",
    "    info = cog.info()\n",
    "print(info.dict(exclude_none=True))\n",
    "\n",
    "bounds = info.bounds\n",
    "center = ((bounds[1] + bounds[3]) / 2, (bounds[0] + bounds[2]) / 2)\n",
    "m = Map(center=center, zoom=info.minzoom, basemap={}, crs=projections.EPSG4326)\n",
    "\n",
    "layer = TileLayer(\n",
    "    url=\"http://127.0.0.1:8080/tiles/WorldCRS84Quad/{z}/{x}/{y}\",\n",
    "    min_zoom=info.minzoom,\n",
    "    max_zoom=info.maxzoom,\n",
    "    opacity=1,\n",
    ")\n",
    "m.add_layer(layer)\n",
    "m"
   ]
  },
  {
   "cell_type": "code",
   "execution_count": 11,
   "metadata": {},
   "outputs": [],
   "source": [
    "ts.stop()"
   ]
  },
  {
   "cell_type": "code",
   "execution_count": null,
   "metadata": {},
   "outputs": [],
   "source": []
  }
 ],
 "metadata": {
  "kernelspec": {
   "display_name": "Python 3 (ipykernel)",
   "language": "python",
   "name": "python3"
  },
  "language_info": {
   "codemirror_mode": {
    "name": "ipython",
    "version": 3
   },
   "file_extension": ".py",
   "mimetype": "text/x-python",
   "name": "python",
   "nbconvert_exporter": "python",
   "pygments_lexer": "ipython3",
   "version": "3.9.13"
  }
 },
 "nbformat": 4,
 "nbformat_minor": 2
}
