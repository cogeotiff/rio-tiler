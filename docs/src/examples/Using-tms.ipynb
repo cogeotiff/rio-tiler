{
 "cells": [
  {
   "cell_type": "markdown",
   "metadata": {},
   "source": [
    "# Introduction to TileMatrixSets"
   ]
  },
  {
   "cell_type": "markdown",
   "metadata": {},
   "source": [
    "The goal of this notebook is to give a quick introduction to the new TMS option in rio-tiler."
   ]
  },
  {
   "cell_type": "markdown",
   "metadata": {},
   "source": [
    "# Requirements\n",
    "\n",
    "To be able to run this notebook you'll need the following requirements:\n",
    "- rio-tiler~= 3.0\n",
    "- ipyleaflet"
   ]
  },
  {
   "cell_type": "code",
   "execution_count": null,
   "metadata": {},
   "outputs": [],
   "source": [
    "# !pip install rio-tiler\n",
    "# !pip install ipyleaflet"
   ]
  },
  {
   "cell_type": "code",
   "execution_count": null,
   "metadata": {},
   "outputs": [],
   "source": [
    "import morecantile\n",
    "from ipyleaflet import (\n",
    "    Map,\n",
    "    basemaps,\n",
    "    basemap_to_tiles,\n",
    "    TileLayer,\n",
    "    WMSLayer,\n",
    "    GeoJSON,\n",
    "    projections\n",
    ")"
   ]
  },
  {
   "cell_type": "markdown",
   "metadata": {},
   "source": [
    "## Data\n",
    "\n",
    "For this demo we will use some NAIP data hosted on Azure.\n",
    "\n",
    "https://azure.microsoft.com/fr-fr/services/open-datasets/catalog/naip/\n",
    "\n",
    "\n",
    "The data is similar to the data hosted on [AWS](https://registry.opendata.aws/naip/), but using the one on Azure is easier because it offers direct `http` access without needing an AWS account."
   ]
  },
  {
   "cell_type": "code",
   "execution_count": null,
   "metadata": {},
   "outputs": [],
   "source": [
    "# For this DEMO we will use this file\n",
    "src_path = \"https://naipblobs.blob.core.windows.net/naip/v002/al/2019/al_60cm_2019/30087/m_3008701_ne_16_060_20191115.tif\""
   ]
  },
  {
   "cell_type": "markdown",
   "metadata": {},
   "source": [
    "## Tile Server\n",
    "\n",
    "For this demo, we need to create a minimal tile server."
   ]
  },
  {
   "cell_type": "code",
   "execution_count": null,
   "metadata": {},
   "outputs": [],
   "source": [
    "import json\n",
    "from concurrent import futures\n",
    "\n",
    "from tornado import web\n",
    "from tornado import gen\n",
    "from tornado.httpserver import HTTPServer\n",
    "from tornado.concurrent import run_on_executor\n",
    "\n",
    "from rio_tiler.io import COGReader\n",
    "from rio_tiler.errors import TileOutsideBounds\n",
    "from rio_tiler.profiles import img_profiles\n",
    "\n",
    "class TileServer:\n",
    "    \n",
    "    def __init__(self, src_path):\n",
    "        \"\"\"Initialize Tornado app.\"\"\"\n",
    "        self.server = None\n",
    "        self.app = web.Application([\n",
    "            (r\"^/tiles/(\\w+)/(\\d+)/(\\d+)/(\\d+)\", TileHandler, {\"url\": src_path}),\n",
    "        ])\n",
    "\n",
    "    def start(self):\n",
    "        \"\"\"Start tile server.\"\"\"\n",
    "        self.server = HTTPServer(self.app)\n",
    "        self.server.listen(8080)\n",
    "  \n",
    "    def stop(self):\n",
    "        \"\"\"Stop tile server.\"\"\"\n",
    "        if self.server:\n",
    "            self.server.stop()\n",
    "\n",
    "\n",
    "class TileHandler(web.RequestHandler):\n",
    "    \"\"\"Tile requests handler.\"\"\"\n",
    "\n",
    "    executor = futures.ThreadPoolExecutor(max_workers=16)\n",
    "\n",
    "    def initialize(self, url):\n",
    "        \"\"\"Initialize tiles handler.\"\"\"\n",
    "        self.url = url\n",
    "\n",
    "    @run_on_executor\n",
    "    def _get_tile(self, tms, z, x, y):\n",
    "\n",
    "        try:\n",
    "            with COGReader(self.url, tms=morecantile.tms.get(tms)) as cog:\n",
    "                img = cog.tile(x, y, z, indexes=(1,2,3))\n",
    "        except TileOutsideBounds:\n",
    "            raise web.HTTPError(404)\n",
    "\n",
    "        prof = img_profiles.get(\"PNG\", {})\n",
    "        return img.render(img_format=\"PNG\", **prof)\n",
    "\n",
    "    @gen.coroutine\n",
    "    def get(self, tms, z, x, y):\n",
    "        \"\"\"Retunrs tile data and header.\"\"\"\n",
    "        self.set_header(\"Access-Control-Allow-Origin\", \"*\")\n",
    "        self.set_header(\"Access-Control-Allow-Methods\", \"GET\")\n",
    "        self.set_header(\"Content-Type\", \"image/png\")\n",
    "        self.set_header(\"Cache-Control\", \"no-store, no-cache, must-revalidate\")\n",
    "        res = yield self._get_tile(tms, int(z), int(x), int(y))\n",
    "        self.write(res)\n",
    "\n",
    "\n",
    "ts = TileServer(src_path)\n",
    "ts.start()"
   ]
  },
  {
   "cell_type": "markdown",
   "metadata": {},
   "source": [
    "List the supported TMS from morecantile"
   ]
  },
  {
   "cell_type": "code",
   "execution_count": null,
   "metadata": {
    "scrolled": false
   },
   "outputs": [],
   "source": [
    "print(\"Supported TMS:\")\n",
    "for name, tms in morecantile.tms.tms.items():\n",
    "    print(\"-\", name, \"|\",tms.crs)"
   ]
  },
  {
   "cell_type": "markdown",
   "metadata": {},
   "source": [
    "## WebMercator TMS"
   ]
  },
  {
   "cell_type": "code",
   "execution_count": null,
   "metadata": {},
   "outputs": [],
   "source": [
    "with COGReader(src_path) as cog:\n",
    "    info = cog.info()\n",
    "print(info.dict(exclude_none=True))\n",
    "\n",
    "m = Map(center=(30.96, -87.90), zoom=info.minzoom, basemap={})\n",
    "\n",
    "layer = TileLayer(\n",
    "    url=\"http://127.0.0.1:8080/tiles/WebMercatorQuad/{z}/{x}/{y}\",\n",
    "    min_zoom=info.minzoom,\n",
    "    max_zoom=info.maxzoom,\n",
    "    opacity=1,\n",
    ")\n",
    "m.add_layer(layer)\n",
    "m"
   ]
  },
  {
   "cell_type": "markdown",
   "metadata": {},
   "source": [
    "## WGS84 TMS"
   ]
  },
  {
   "cell_type": "code",
   "execution_count": null,
   "metadata": {
    "scrolled": false
   },
   "outputs": [],
   "source": [
    "with COGReader(src_path, tms=morecantile.tms.get(\"WorldCRS84Quad\")) as cog:\n",
    "    info = cog.info()\n",
    "print(info.dict(exclude_none=True))\n",
    "\n",
    "m = Map(center=(30.96, -87.90), zoom=info.minzoom, basemap={}, crs=projections.EPSG4326)\n",
    "\n",
    "layer = TileLayer(\n",
    "    url=\"http://127.0.0.1:8080/tiles/WorldCRS84Quad/{z}/{x}/{y}\",\n",
    "    min_zoom=info.minzoom,\n",
    "    max_zoom=info.maxzoom,\n",
    "    opacity=1,\n",
    ")\n",
    "m.add_layer(layer)\n",
    "m"
   ]
  },
  {
   "cell_type": "code",
   "execution_count": null,
   "metadata": {},
   "outputs": [],
   "source": [
    "ts.stop()"
   ]
  },
  {
   "cell_type": "code",
   "execution_count": null,
   "metadata": {},
   "outputs": [],
   "source": []
  }
 ],
 "metadata": {
  "kernelspec": {
   "display_name": "Python 3",
   "language": "python",
   "name": "python3"
  },
  "language_info": {
   "codemirror_mode": {
    "name": "ipython",
    "version": 3
   },
   "file_extension": ".py",
   "mimetype": "text/x-python",
   "name": "python",
   "nbconvert_exporter": "python",
   "pygments_lexer": "ipython3",
   "version": "3.8.2"
  }
 },
 "nbformat": 4,
 "nbformat_minor": 2
}
