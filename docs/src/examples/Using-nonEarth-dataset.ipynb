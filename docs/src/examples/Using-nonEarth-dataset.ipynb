{
 "cells": [
  {
   "cell_type": "markdown",
   "metadata": {},
   "source": [
    "# Using Non Earth dataset"
   ]
  },
  {
   "cell_type": "markdown",
   "metadata": {},
   "source": [
    "Starting with version 3.0, rio-tiler can work with non-earth based dataset (e.g **Mars** data). In this notebook we'll show how to read such dataset and how to create a simple `non-earth` Tile server."
   ]
  },
  {
   "cell_type": "markdown",
   "metadata": {},
   "source": [
    "# Requirements\n",
    "\n",
    "To be able to run this notebook you'll need the following requirements:\n",
    "- rio-tiler~=7.0\n",
    "- ipyleaflet\n",
    "- matplotlib\n",
    "- tornado"
   ]
  },
  {
   "cell_type": "code",
   "execution_count": 1,
   "metadata": {},
   "outputs": [],
   "source": [
    "# !pip install rio-tiler\n",
    "# !pip install ipyleaflet\n",
    "# !pip install matplotlib\n",
    "# !pip install tornado"
   ]
  },
  {
   "cell_type": "code",
   "execution_count": 2,
   "metadata": {},
   "outputs": [],
   "source": [
    "from matplotlib.pyplot import imshow\n",
    "\n",
    "# In order to fully work, we'll need to build a custom TileMatrixSet\n",
    "from morecantile import TileMatrixSet\n",
    "from pyproj import CRS\n",
    "\n",
    "from rio_tiler.io import Reader\n",
    "\n",
    "# For this DEMO we will use this file\n",
    "src_path = \"https://raw.githubusercontent.com/cogeotiff/rio-tiler/main/tests/fixtures/cog_nonearth.tif\""
   ]
  },
  {
   "cell_type": "code",
   "execution_count": null,
   "metadata": {},
   "outputs": [],
   "source": [
    "# Let's first try with default\n",
    "with Reader(src_path) as src:\n",
    "    print(src.info().model_dump_json())"
   ]
  },
  {
   "cell_type": "code",
   "execution_count": null,
   "metadata": {},
   "outputs": [],
   "source": [
    "# Create a CUSTOM TMS using the europa ESRI:104915 projection\n",
    "europa_crs = CRS.from_authority(\"ESRI\", 104915)\n",
    "europa_tms = TileMatrixSet.custom(\n",
    "    crs=europa_crs,\n",
    "    extent=europa_crs.area_of_use.bounds,\n",
    "    matrix_scale=[2, 1],\n",
    ")\n",
    "\n",
    "# Use Custom TMS instead of Web Mercator\n",
    "with Reader(src_path, tms=europa_tms) as src:\n",
    "    print(src.info().model_dump_json())\n",
    "    img = src.preview()\n",
    "    imshow(img.data_as_image())"
   ]
  },
  {
   "cell_type": "code",
   "execution_count": null,
   "metadata": {
    "scrolled": false
   },
   "outputs": [],
   "source": [
    "# Read a Tile\n",
    "from rasterio.warp import transform_bounds\n",
    "\n",
    "with Reader(src_path, tms=europa_tms) as src:\n",
    "    # get dataset bounds in TMS's CRS projection\n",
    "    bounds_in_tms = transform_bounds(src.crs, europa_tms.rasterio_crs, *src.bounds)\n",
    "    tile = src.tms._tile(bounds_in_tms[0], bounds_in_tms[1], src.minzoom)\n",
    "    print(tile)\n",
    "\n",
    "    img = src.tile(tile.x, tile.y, tile.z)\n",
    "    imshow(img.data_as_image())"
   ]
  },
  {
   "cell_type": "markdown",
   "metadata": {},
   "source": [
    "## Tile Server\n",
    "\n",
    "#### Requirements\n",
    "- tornado"
   ]
  },
  {
   "cell_type": "code",
   "execution_count": 7,
   "metadata": {},
   "outputs": [],
   "source": [
    "from ipyleaflet import Map, TileLayer, projections"
   ]
  },
  {
   "cell_type": "code",
   "execution_count": 8,
   "metadata": {},
   "outputs": [],
   "source": [
    "from concurrent import futures\n",
    "\n",
    "from morecantile import TileMatrixSet\n",
    "from pyproj import CRS\n",
    "from tornado import gen, web\n",
    "from tornado.concurrent import run_on_executor\n",
    "from tornado.httpserver import HTTPServer\n",
    "\n",
    "from rio_tiler.errors import TileOutsideBounds\n",
    "from rio_tiler.io import Reader\n",
    "from rio_tiler.profiles import img_profiles\n",
    "\n",
    "# Create a CUSTOM TMS using the europa ESRI:104915 projection\n",
    "europa_crs = CRS.from_authority(\"ESRI\", 104915)\n",
    "europa_tms = TileMatrixSet.custom(\n",
    "    crs=europa_crs,\n",
    "    extent=europa_crs.area_of_use.bounds,\n",
    "    matrix_scale=[2, 1],\n",
    ")\n",
    "\n",
    "\n",
    "class TileServer:\n",
    "    def __init__(self, src_path):\n",
    "        \"\"\"Initialize Tornado app.\"\"\"\n",
    "        self.server = None\n",
    "        self.app = web.Application(\n",
    "            [\n",
    "                (r\"^/tiles/(\\d+)/(\\d+)/(\\d+)\", TileHandler, {\"url\": src_path}),\n",
    "            ]\n",
    "        )\n",
    "\n",
    "    def start(self):\n",
    "        \"\"\"Start tile server.\"\"\"\n",
    "        self.server = HTTPServer(self.app)\n",
    "        self.server.listen(8080)\n",
    "\n",
    "    def stop(self):\n",
    "        \"\"\"Stop tile server.\"\"\"\n",
    "        if self.server:\n",
    "            self.server.stop()\n",
    "\n",
    "\n",
    "class TileHandler(web.RequestHandler):\n",
    "    \"\"\"Tile requests handler.\"\"\"\n",
    "\n",
    "    executor = futures.ThreadPoolExecutor(max_workers=16)\n",
    "\n",
    "    def initialize(self, url):\n",
    "        \"\"\"Initialize tiles handler.\"\"\"\n",
    "        self.url = url\n",
    "\n",
    "    @run_on_executor\n",
    "    def _get_tile(self, z, x, y):\n",
    "\n",
    "        try:\n",
    "            with Reader(self.url, tms=europa_tms) as src:\n",
    "                data = src.tile(x, y, z)\n",
    "        except TileOutsideBounds:\n",
    "            raise web.HTTPError(404)\n",
    "\n",
    "        image = data.post_process(in_range=((0, 0.5),))\n",
    "\n",
    "        prof = img_profiles.get(\"PNG\", {})\n",
    "        return image.render(img_format=\"PNG\", **prof)\n",
    "\n",
    "    @gen.coroutine\n",
    "    def get(self, z, x, y):\n",
    "        \"\"\"Retunrs tile data and header.\"\"\"\n",
    "        self.set_header(\"Access-Control-Allow-Origin\", \"*\")\n",
    "        self.set_header(\"Access-Control-Allow-Methods\", \"GET\")\n",
    "        self.set_header(\"Content-Type\", \"image/png\")\n",
    "        self.set_header(\"Cache-Control\", \"no-store, no-cache, must-revalidate\")\n",
    "        res = yield self._get_tile(int(z), int(x), int(y))\n",
    "        self.write(res)\n",
    "\n",
    "\n",
    "ts = TileServer(src_path)\n",
    "ts.start()"
   ]
  },
  {
   "cell_type": "code",
   "execution_count": null,
   "metadata": {},
   "outputs": [],
   "source": [
    "bounds = (129.36834223297478, 13.985559117409744, 138.90253908503576, 23.13673177454536)\n",
    "\n",
    "m = Map(\n",
    "    center=((bounds[1] + bounds[3]) / 2, (bounds[0] + bounds[2]) / 2),\n",
    "    zoom=4,\n",
    "    basemap={},\n",
    "    crs=projections.EPSG4326,  # HACK: the europa TMS is in degree and covers -180, -90, 180, 90 like the WGS84\n",
    ")\n",
    "\n",
    "layer = TileLayer(\n",
    "    url=\"http://127.0.0.1:8080/tiles/{z}/{x}/{y}\",\n",
    "    min_zoom=4,\n",
    "    max_zoom=6,\n",
    "    opacity=1,\n",
    ")\n",
    "m.add_layer(layer)\n",
    "m"
   ]
  },
  {
   "cell_type": "code",
   "execution_count": 11,
   "metadata": {},
   "outputs": [],
   "source": [
    "ts.stop()"
   ]
  },
  {
   "cell_type": "code",
   "execution_count": null,
   "metadata": {},
   "outputs": [],
   "source": []
  }
 ],
 "metadata": {
  "kernelspec": {
   "display_name": "Python 3 (ipykernel)",
   "language": "python",
   "name": "python3"
  },
  "language_info": {
   "codemirror_mode": {
    "name": "ipython",
    "version": 3
   },
   "file_extension": ".py",
   "mimetype": "text/x-python",
   "name": "python",
   "nbconvert_exporter": "python",
   "pygments_lexer": "ipython3",
   "version": "3.9.19"
  },
  "vscode": {
   "interpreter": {
    "hash": "2590a9e34ee6c8bdce5141410f2a072bbabd2a859a8a48acdaa85720923a90ef"
   }
  }
 },
 "nbformat": 4,
 "nbformat_minor": 2
}
