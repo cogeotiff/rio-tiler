{
 "cells": [
  {
   "cell_type": "markdown",
   "metadata": {},
   "source": [
    "# Using Non Earth dataset"
   ]
  },
  {
   "cell_type": "markdown",
   "metadata": {},
   "source": [
    "Starting with version 3.0, rio-tiler can work with non-earth based dataset (e.g **Mars** data). In this notebook we'll show how to read such dataset and how to create a simple `non-earth` Tile server."
   ]
  },
  {
   "cell_type": "markdown",
   "metadata": {},
   "source": [
    "# Requirements\n",
    "\n",
    "To be able to run this notebook you'll need the following requirements:\n",
    "- rio-tiler~=5.0\n",
    "- ipyleaflet\n",
    "- matplotlib\n",
    "- tornado"
   ]
  },
  {
   "cell_type": "code",
   "execution_count": 1,
   "metadata": {},
   "outputs": [],
   "source": [
    "# !pip install rio-tiler\n",
    "# !pip install ipyleaflet\n",
    "# !pip install matplotlib\n",
    "# !pip install tornado"
   ]
  },
  {
   "cell_type": "code",
   "execution_count": 2,
   "metadata": {},
   "outputs": [],
   "source": [
    "from matplotlib.pyplot import imshow\n",
    "\n",
    "from rio_tiler.io import Reader\n",
    "\n",
    "# In order to fully work, we'll need to build a custom TileMatrixSet\n",
    "from morecantile import TileMatrixSet\n",
    "from pyproj import CRS\n",
    "\n",
    "# For this DEMO we will use this file\n",
    "src_path = \"https://raw.githubusercontent.com/cogeotiff/rio-tiler/main/tests/fixtures/cog_nonearth.tif\""
   ]
  },
  {
   "cell_type": "code",
   "execution_count": 3,
   "metadata": {},
   "outputs": [
    {
     "name": "stdout",
     "output_type": "stream",
     "text": [
      "{\"bounds\": [-180.0, -90, 180.0, 90], \"minzoom\": 0, \"maxzoom\": 24, \"band_metadata\": [[\"b1\", {}]], \"band_descriptions\": [[\"b1\", \"IR-9680\"]], \"dtype\": \"float32\", \"nodata_type\": \"Nodata\", \"colorinterp\": [\"gray\"], \"scale\": null, \"offset\": null, \"colormap\": null, \"driver\": \"GTiff\", \"width\": 921, \"height\": 884, \"count\": 1, \"nodata_value\": -3.4028226550889045e+38, \"overviews\": [2]}\n"
     ]
    },
    {
     "name": "stderr",
     "output_type": "stream",
     "text": [
      "/Users/vincentsarago/Dev/CogeoTiff/rio-tiler/rio_tiler/io/base.py:59: UserWarning: Cannot determine bounds in geographic CRS, will default to (-180.0, -90.0, 180.0, 90.0).\n",
      "  warnings.warn(\n",
      "/Users/vincentsarago/Dev/CogeoTiff/rio-tiler/rio_tiler/io/rasterio.py:183: UserWarning: Cannot determine minzoom based on dataset information, will default to TMS minzoom.\n",
      "  warnings.warn(\n",
      "/Users/vincentsarago/Dev/CogeoTiff/rio-tiler/rio_tiler/io/rasterio.py:204: UserWarning: Cannot determine maxzoom based on dataset information, will default to TMS maxzoom.\n",
      "  warnings.warn(\n"
     ]
    }
   ],
   "source": [
    "# Let's first try with default\n",
    "# We should see 3 different warnings here\n",
    "# - UserWarning: Cannot dertermine bounds in WGS84: There is no existing transformation to WGS84\n",
    "# - UserWarning: Cannot dertermine minzoom based on dataset informations: We cannot get default Zooms in WebMercator projection\n",
    "# - UserWarning: Cannot dertermine maxzoom based on dataset informations: We cannot get default Zooms in WebMercator projection\n",
    "with Reader(src_path) as src:\n",
    "    print(src.info().json())"
   ]
  },
  {
   "cell_type": "code",
   "execution_count": 4,
   "metadata": {},
   "outputs": [
    {
     "name": "stderr",
     "output_type": "stream",
     "text": [
      "/Users/vincentsarago/Dev/DevSeed/morecantile/morecantile/models.py:290: UserWarning: Could not create coordinate Transformer from input CRS to the given geographic CRSsome methods might not be available.\n",
      "  warnings.warn(\n"
     ]
    },
    {
     "name": "stdout",
     "output_type": "stream",
     "text": [
      "{\"bounds\": [-180.0, -90, 180.0, 90], \"minzoom\": 4, \"maxzoom\": 6, \"band_metadata\": [[\"b1\", {}]], \"band_descriptions\": [[\"b1\", \"IR-9680\"]], \"dtype\": \"float32\", \"nodata_type\": \"Nodata\", \"colorinterp\": [\"gray\"], \"scale\": null, \"offset\": null, \"colormap\": null, \"driver\": \"GTiff\", \"width\": 921, \"height\": 884, \"count\": 1, \"nodata_value\": -3.4028226550889045e+38, \"overviews\": [2]}\n"
     ]
    },
    {
     "data": {
      "image/png": "[encoded data removed]",
      "text/plain": [
       "<Figure size 640x480 with 1 Axes>"
      ]
     },
     "metadata": {},
     "output_type": "display_data"
    }
   ],
   "source": [
    "# Create a CUSTOM TMS using the europa ESRI:104915 projection\n",
    "europa_crs = CRS.from_authority(\"ESRI\", 104915)\n",
    "europa_tms = TileMatrixSet.custom(\n",
    "    crs=europa_crs, extent=europa_crs.area_of_use.bounds, matrix_scale=[2, 1],\n",
    ")\n",
    "\n",
    "# Use Custom TMS instead of Web Mercator\n",
    "# We should see 2 different warnings here\n",
    "# - UserWarning: Could not create coordinate Transformer from input CRS to WGS84: This is from morecantile. It means some methods won't be available but we can ignore. \n",
    "# - UserWarning: Cannot dertermine bounds in WGS84: Same as before. the `src.geographic_bounds` property will return default (-180.0, -90.0, 180.0, 90.0)\n",
    "with Reader(src_path, tms=europa_tms) as src:\n",
    "    print(src.info().json())\n",
    "    img = src.preview()\n",
    "    imshow(img.data_as_image())"
   ]
  },
  {
   "cell_type": "code",
   "execution_count": 5,
   "metadata": {
    "scrolled": false
   },
   "outputs": [
    {
     "name": "stdout",
     "output_type": "stream",
     "text": [
      "Tile(x=27, y=6, z=4)\n"
     ]
    },
    {
     "data": {
      "image/png": "[encoded data removed]",
      "text/plain": [
       "<Figure size 640x480 with 1 Axes>"
      ]
     },
     "metadata": {},
     "output_type": "display_data"
    }
   ],
   "source": [
    "# Read a Tile\n",
    "from rasterio.warp import transform_bounds\n",
    "\n",
    "with Reader(src_path, tms=europa_tms) as src:\n",
    "    # get dataset bounds in TMS's CRS projection\n",
    "    bounds_in_tms = transform_bounds(src.crs, europa_tms.rasterio_crs, *src.bounds)\n",
    "    tile = src.tms._tile(bounds_in_tms[0], bounds_in_tms[1], src.minzoom)\n",
    "    print(tile)\n",
    "\n",
    "    img = src.tile(tile.x, tile.y, tile.z)\n",
    "    imshow(img.data_as_image())"
   ]
  },
  {
   "cell_type": "markdown",
   "metadata": {},
   "source": [
    "## Tile Server\n",
    "\n",
    "#### Requirements\n",
    "- tornado"
   ]
  },
  {
   "cell_type": "code",
   "execution_count": 12,
   "metadata": {},
   "outputs": [],
   "source": [
    "from ipyleaflet import (\n",
    "    Map,\n",
    "    TileLayer,\n",
    "    projections\n",
    ")"
   ]
  },
  {
   "cell_type": "code",
   "execution_count": 13,
   "metadata": {},
   "outputs": [
    {
     "name": "stderr",
     "output_type": "stream",
     "text": [
      "/Users/vincentsarago/Dev/venv/py39/lib/python3.9/site-packages/morecantile/models.py:162: UserWarning: Could not create coordinate Transformer from input CRS to the given geographic CRSsome methods might not be available.\n",
      "  warnings.warn(\n"
     ]
    }
   ],
   "source": [
    "import json\n",
    "from concurrent import futures\n",
    "\n",
    "from tornado import web\n",
    "from tornado import gen\n",
    "from tornado.httpserver import HTTPServer\n",
    "from tornado.concurrent import run_on_executor\n",
    "\n",
    "from rio_tiler.io import Reader\n",
    "from rio_tiler.errors import TileOutsideBounds\n",
    "from rio_tiler.profiles import img_profiles\n",
    "\n",
    "from pyproj import CRS\n",
    "from morecantile import TileMatrixSet\n",
    "\n",
    "# Create a CUSTOM TMS using the europa ESRI:104915 projection\n",
    "europa_crs = CRS.from_authority(\"ESRI\", 104915)\n",
    "europa_tms = TileMatrixSet.custom(\n",
    "    crs=europa_crs, extent=europa_crs.area_of_use.bounds, matrix_scale=[2, 1],\n",
    ")\n",
    "\n",
    "class TileServer:\n",
    "    def __init__(self, src_path):\n",
    "        \"\"\"Initialize Tornado app.\"\"\"\n",
    "        self.server = None\n",
    "        self.app = web.Application([\n",
    "            (r\"^/tiles/(\\d+)/(\\d+)/(\\d+)\", TileHandler, {\"url\": src_path}),\n",
    "        ])\n",
    "\n",
    "    def start(self):\n",
    "        \"\"\"Start tile server.\"\"\"\n",
    "        self.server = HTTPServer(self.app)\n",
    "        self.server.listen(8080)\n",
    "  \n",
    "    def stop(self):\n",
    "        \"\"\"Stop tile server.\"\"\"\n",
    "        if self.server:\n",
    "            self.server.stop()\n",
    "\n",
    "\n",
    "class TileHandler(web.RequestHandler):\n",
    "    \"\"\"Tile requests handler.\"\"\"\n",
    "\n",
    "    executor = futures.ThreadPoolExecutor(max_workers=16)\n",
    "\n",
    "    def initialize(self, url):\n",
    "        \"\"\"Initialize tiles handler.\"\"\"\n",
    "        self.url = url\n",
    "\n",
    "    @run_on_executor\n",
    "    def _get_tile(self, z, x, y):\n",
    "\n",
    "        try:\n",
    "            with Reader(self.url, tms=europa_tms) as src:\n",
    "                data = src.tile(x, y, z)\n",
    "        except TileOutsideBounds:\n",
    "            raise web.HTTPError(404)\n",
    "\n",
    "        image = data.post_process(in_range=((0, 0.5),))\n",
    "\n",
    "        prof = img_profiles.get(\"PNG\", {})\n",
    "        return image.render(img_format=\"PNG\", **prof)\n",
    "\n",
    "    @gen.coroutine\n",
    "    def get(self, z, x, y):\n",
    "        \"\"\"Retunrs tile data and header.\"\"\"\n",
    "        self.set_header(\"Access-Control-Allow-Origin\", \"*\")\n",
    "        self.set_header(\"Access-Control-Allow-Methods\", \"GET\")\n",
    "        self.set_header(\"Content-Type\", \"image/png\")\n",
    "        self.set_header(\"Cache-Control\", \"no-store, no-cache, must-revalidate\")\n",
    "        res = yield self._get_tile(int(z), int(x), int(y))\n",
    "        self.write(res)\n",
    "\n",
    "\n",
    "ts = TileServer(src_path)\n",
    "ts.start()"
   ]
  },
  {
   "cell_type": "code",
   "execution_count": 14,
   "metadata": {},
   "outputs": [
    {
     "data": {
      "application/vnd.jupyter.widget-view+json": {
       "model_id": "acd913fdeffd4802b09732189b001bd4",
       "version_major": 2,
       "version_minor": 0
      },
      "text/plain": [
       "Map(center=[18.56114544597755, 134.13544065900527], controls=(ZoomControl(options=['position', 'zoom_in_text',…"
      ]
     },
     "execution_count": 14,
     "metadata": {},
     "output_type": "execute_result"
    },
    {
     "name": "stderr",
     "output_type": "stream",
     "text": [
      "WARNING:tornado.access:404 GET /tiles/4/27/7 (127.0.0.1) 2376.62ms\n",
      "WARNING:tornado.access:404 GET /tiles/4/28/7 (127.0.0.1) 2376.60ms\n",
      "WARNING:tornado.access:404 GET /tiles/4/26/6 (127.0.0.1) 247.34ms\n",
      "WARNING:tornado.access:404 GET /tiles/4/29/6 (127.0.0.1) 317.36ms\n",
      "WARNING:tornado.access:404 GET /tiles/4/26/5 (127.0.0.1) 398.04ms\n",
      "WARNING:tornado.access:404 GET /tiles/4/29/5 (127.0.0.1) 88.59ms\n",
      "WARNING:tornado.access:404 GET /tiles/4/26/7 (127.0.0.1) 330.95ms\n",
      "WARNING:tornado.access:404 GET /tiles/4/29/7 (127.0.0.1) 411.70ms\n",
      "WARNING:tornado.access:404 GET /tiles/4/25/6 (127.0.0.1) 247.50ms\n",
      "WARNING:tornado.access:404 GET /tiles/4/30/6 (127.0.0.1) 247.38ms\n",
      "WARNING:tornado.access:404 GET /tiles/4/25/5 (127.0.0.1) 83.29ms\n",
      "WARNING:tornado.access:404 GET /tiles/4/30/5 (127.0.0.1) 161.35ms\n",
      "WARNING:tornado.access:404 GET /tiles/4/25/7 (127.0.0.1) 162.02ms\n",
      "WARNING:tornado.access:404 GET /tiles/4/31/6 (127.0.0.1) 321.71ms\n",
      "WARNING:tornado.access:404 GET /tiles/4/24/6 (127.0.0.1) 322.11ms\n",
      "WARNING:tornado.access:404 GET /tiles/4/24/5 (127.0.0.1) 323.51ms\n",
      "WARNING:tornado.access:404 GET /tiles/4/30/7 (127.0.0.1) 322.74ms\n",
      "WARNING:tornado.access:404 GET /tiles/4/24/7 (127.0.0.1) 246.76ms\n",
      "WARNING:tornado.access:404 GET /tiles/4/31/5 (127.0.0.1) 247.04ms\n",
      "WARNING:tornado.access:404 GET /tiles/4/31/7 (127.0.0.1) 84.63ms\n"
     ]
    }
   ],
   "source": [
    "bounds = (129.36834223297478, 13.985559117409744, 138.90253908503576, 23.13673177454536)\n",
    "\n",
    "m = Map(\n",
    "    center=(\n",
    "        (bounds[1] + bounds[3]) / 2,\n",
    "        (bounds[0] + bounds[2]) / 2\n",
    "    ),\n",
    "    zoom=4,\n",
    "    basemap={},\n",
    "    crs=projections.EPSG4326,  # HACK: the europa TMS is in degree and covers -180, -90, 180, 90 like the WGS84\n",
    ")\n",
    "\n",
    "layer = TileLayer(\n",
    "    url=\"http://127.0.0.1:8080/tiles/{z}/{x}/{y}\",\n",
    "    min_zoom=4,\n",
    "    max_zoom=6,\n",
    "    opacity=1,\n",
    ")\n",
    "m.add_layer(layer)\n",
    "m"
   ]
  },
  {
   "cell_type": "code",
   "execution_count": 15,
   "metadata": {},
   "outputs": [],
   "source": [
    "ts.stop()"
   ]
  },
  {
   "cell_type": "code",
   "execution_count": null,
   "metadata": {},
   "outputs": [],
   "source": []
  }
 ],
 "metadata": {
  "kernelspec": {
   "display_name": "Python 3 (ipykernel)",
   "language": "python",
   "name": "python3"
  },
  "language_info": {
   "codemirror_mode": {
    "name": "ipython",
    "version": 3
   },
   "file_extension": ".py",
   "mimetype": "text/x-python",
   "name": "python",
   "nbconvert_exporter": "python",
   "pygments_lexer": "ipython3",
   "version": "3.9.13"
  },
  "vscode": {
   "interpreter": {
    "hash": "2590a9e34ee6c8bdce5141410f2a072bbabd2a859a8a48acdaa85720923a90ef"
   }
  }
 },
 "nbformat": 4,
 "nbformat_minor": 2
}
