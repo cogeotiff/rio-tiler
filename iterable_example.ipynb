{
 "cells": [
  {
   "cell_type": "code",
   "execution_count": null,
   "metadata": {},
   "outputs": [],
   "source": []
  },
  {
   "cell_type": "code",
   "execution_count": 5,
   "id": "760550cf-4feb-44b4-9f7f-ce065fde279b",
   "metadata": {},
   "outputs": [
    {
     "name": "stdout",
     "output_type": "stream",
     "text": [
      "[-93.01025390625037, 44.99588261816585, -92.98828125000037, 45.01141864227766]\n",
      "https://planetarycomputer.microsoft.com/api/stac/v1/search?limit=10&bbox=-93.01025390625037%2C44.99588261816585%2C-92.98828125000037%2C45.01141864227766&collections=naip&fields=\n",
      "4 4 4\n",
      "4\n",
      "CPU times: user 383 ms, sys: 7.44 ms, total: 391 ms\n",
      "Wall time: 1.08 s\n"
     ]
    }
   ],
   "source": [
    "%%time\n",
    "from pystac_client import Client\n",
    "from rio_tiler.mosaic import mosaic_reader\n",
    "from rio_tiler.io import Reader\n",
    "from rio_tiler.models import ImageData\n",
    "import morecantile\n",
    "\n",
    "tms = morecantile.tms.get(\"WebMercatorQuad\")\n",
    "x, y, z = tms.tile(-93,45,14)\n",
    "bbox = list(tms.bounds(morecantile.Tile(x, y, z)))\n",
    "print(bbox)\n",
    "\n",
    "def reader(asset: str, *args, **kwargs) -> ImageData:\n",
    "    with Reader(asset) as src:\n",
    "        return src.tile(*args, **kwargs)\n",
    "\n",
    "\n",
    "catalog = Client.open('https://planetarycomputer.microsoft.com/api/stac/v1')\n",
    "results = catalog.search(\n",
    "    limit=10,\n",
    "    max_items=100,\n",
    "    bbox=bbox,\n",
    "    collections=[\"naip\"],\n",
    "    fields={\"include\":[\"assets.image.href\"], \"exclude\":[\"links\"]}\n",
    ")\n",
    "print(results.url_with_parameters())\n",
    "items=results.items_as_dicts()\n",
    "\n",
    "assets = (item['assets']['image']['href'] for item in items)\n",
    "\n",
    "img, used = mosaic_reader(assets, reader, x, y, z, threads=4)\n",
    "print(len(used))\n"
   ]
  }
 ],
 "metadata": {
  "kernelspec": {
   "display_name": "python-3.10.12",
   "language": "python",
   "name": "python3"
  },
  "language_info": {
   "codemirror_mode": {
    "name": "ipython",
    "version": 3
   },
   "file_extension": ".py",
   "mimetype": "text/x-python",
   "name": "python",
   "nbconvert_exporter": "python",
   "pygments_lexer": "ipython3",
   "version": "3.10.12"
  }
 },
 "nbformat": 4,
 "nbformat_minor": 5
}
